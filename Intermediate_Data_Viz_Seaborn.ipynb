{
  "nbformat": 4,
  "nbformat_minor": 0,
  "metadata": {
    "colab": {
      "provenance": [],
      "authorship_tag": "ABX9TyPuOq5vMzfyJrS0I5a7q3ZR",
      "include_colab_link": true
    },
    "kernelspec": {
      "name": "python3",
      "display_name": "Python 3"
    },
    "language_info": {
      "name": "python"
    }
  },
  "cells": [
    {
      "cell_type": "markdown",
      "metadata": {
        "id": "view-in-github",
        "colab_type": "text"
      },
      "source": [
        "<a href=\"https://colab.research.google.com/github/tomaraayushi/datacamp/blob/main/Intermediate_Data_Viz_Seaborn.ipynb\" target=\"_parent\"><img src=\"https://colab.research.google.com/assets/colab-badge.svg\" alt=\"Open In Colab\"/></a>"
      ]
    },
    {
      "cell_type": "code",
      "source": [
        "#Comparing a histogram and displot\n",
        "# Display a Seaborn displot\n",
        "sns.displot(df['Award_Amount'])\n",
        "plt.show()\n",
        "\n",
        "# Clear the displot\n",
        "plt.clf()\n",
        "\n",
        "# Create a displot\n",
        "sns.displot(df['Award_Amount'],\n",
        "             bins=20)\n",
        "\n",
        "# Display the plot\n",
        "plt.show()\n",
        "\n",
        "#Rug plot and KDE shading\n",
        "# Create a displot of the Award Amount\n",
        "sns.displot(df['Award_Amount'],\n",
        "             kind='kde',\n",
        "             rug=True,\n",
        "             fill=True)\n",
        "\n",
        "# Plot the results\n",
        "plt.show()\n",
        "\n",
        "# Create a regression plot of premiums vs. insurance_losses\n",
        "sns.regplot(data=df,\n",
        "            x = 'insurance_losses',\n",
        "            y= 'premiums')\n",
        "\n",
        "# Create an lmplot of premiums vs. insurance_losses\n",
        "sns.lmplot(data=df,\n",
        "            x = 'insurance_losses',\n",
        "            y= 'premiums')\n",
        "\n",
        "\n",
        "\n",
        "# Display the second plot\n",
        "plt.show()\n",
        "\n",
        "# Create a regression plot using hue\n",
        "sns.lmplot(data=df,\n",
        "           x=\"insurance_losses\",\n",
        "           y=\"premiums\",\n",
        "           hue=\"Region\")\n",
        "\n",
        "# Create a regression plot with multiple rows\n",
        "sns.lmplot(data=df,\n",
        "           x=\"insurance_losses\",\n",
        "           y=\"premiums\",\n",
        "           row=\"Region\")\n",
        "\n",
        "# Show the plot\n",
        "plt.show()"
      ],
      "metadata": {
        "id": "E0JGhFTqz7lp"
      },
      "execution_count": null,
      "outputs": []
    },
    {
      "cell_type": "code",
      "source": [
        "#Customizing Seaborn plots using seaborn styles\n",
        "for style in ['white', 'dark', 'whitegrid', 'darkgrid', 'ticks']:\n",
        "  sns.set_style(style)\n",
        "  sns.displot(df['col'])\n",
        "  plt.show()\n",
        "\n",
        "\n",
        "#Set the default seaborn style\n",
        "sns.set()\n",
        "\n",
        "# Plot the pandas histogram again\n",
        "df['fmr_2'].plot.hist()\n",
        "plt.show()\n",
        "plt.clf()\n",
        "\n",
        "# Set the style to white\n",
        "sns.set_style('white')\n",
        "\n",
        "# Create a regression plot\n",
        "sns.lmplot(data=df,\n",
        "           x='pop2010',\n",
        "           y='fmr_2')\n",
        "\n",
        "# Remove the spines\n",
        "sns.despine(top=True, right=True)\n",
        "\n",
        "# Show the plot and clear the figure\n",
        "plt.show()\n",
        "plt.clf()"
      ],
      "metadata": {
        "id": "H_xnINCb612o"
      },
      "execution_count": null,
      "outputs": []
    },
    {
      "cell_type": "code",
      "source": [
        "#Matplotlib ColorCodes\n",
        "# Set style, enable color code, and create a magenta displot\n",
        "sns.set(color_codes=True)\n",
        "sns.displot(df['fmr_3'], color='m')\n",
        "\n",
        "# Show the plot\n",
        "plt.show()\n",
        "\n",
        "# Loop through differences between bright and colorblind palettes\n",
        "for p in ['bright', 'colorblind']:\n",
        "    sns.set_palette(p)\n",
        "    sns.displot(df['fmr_3'])\n",
        "    plt.show()\n",
        "\n",
        "    # Clear the plots\n",
        "    plt.clf()"
      ],
      "metadata": {
        "id": "1uNg16X3AvB9"
      },
      "execution_count": null,
      "outputs": []
    },
    {
      "cell_type": "code",
      "source": [
        "#Creating Custom Palettes\n",
        "\n",
        "#Sequential palettes are useful when the data has a consistent range from high to low values\n",
        "sns.palplot(sns.color_palette('Purples', 8))\n",
        "\n",
        "#Show the palette\n",
        "plt.show()\n",
        "\n",
        "#Circular color palettes are used for categorical data that is not ordered\n",
        "sns.palplot(sns.color_palette('husl', 10))\n",
        "\n",
        "#Show the palette\n",
        "plt.show()\n",
        "\n",
        "#A diverging color palette is best used when both the high and the low values are interesting\n",
        "sns.palplot(sns.color_palette('coolwarm', 6))\n",
        "\n",
        "#Show the palette\n",
        "plt.show()"
      ],
      "metadata": {
        "id": "nzvnef1gCfH6"
      },
      "execution_count": null,
      "outputs": []
    },
    {
      "cell_type": "code",
      "source": [
        "#Using matplotlib axes\n",
        "# Create a figure and axes\n",
        "fig, ax = plt.subplots()\n",
        "\n",
        "# Plot the distribution of data\n",
        "sns.histplot(df['fmr_3'], ax=ax)\n",
        "\n",
        "# Create a more descriptive x axis label\n",
        "ax.set(xlabel=\"3 Bedroom Fair Market Rent\")\n",
        "\n",
        "# Show the plot\n",
        "plt.show()\n",
        "\n",
        "#Additional plot customization\n",
        "# Create a figure and axes\n",
        "fig, ax = plt.subplots()\n",
        "\n",
        "# Plot the distribution of 1 bedroom rents\n",
        "sns.histplot(df['fmr_1'], ax=ax)\n",
        "\n",
        "# Modify the properties of the plot\n",
        "ax.set(xlabel=\"1 Bedroom Fair Market Rent\",\n",
        "       xlim=(100,1500),\n",
        "       title=\"US Rent\")\n",
        "\n",
        "# Display the plot\n",
        "plt.show()\n",
        "\n",
        "#Adding annotations\n",
        "# Create a figure and axes. Then plot the data\n",
        "fig, ax = plt.subplots()\n",
        "sns.histplot(df['fmr_1'], ax=ax)\n",
        "\n",
        "# Customize the labels and limits\n",
        "ax.set(xlabel=\"1 Bedroom Fair Market Rent\", xlim=(100,1500), title=\"US Rent\")\n",
        "\n",
        "# Add vertical lines for the median and mean\n",
        "ax.axvline(x=df['fmr_1'].median(), color='m', label='Median', linestyle='--', linewidth=2)\n",
        "ax.axvline(x=df['fmr_1'].mean(), color='b', label='Mean', linestyle='-', linewidth=2)\n",
        "\n",
        "# Show the legend and plot the data\n",
        "ax.legend()\n",
        "plt.show()\n",
        "\n",
        "#Multiple plots\n",
        "# Create a plot with 1 row and 2 columns that share the y axis label\n",
        "fig, (ax0, ax1) = plt.subplots(nrows=1, ncols=2, sharey=True)\n",
        "\n",
        "# Plot the distribution of 1 bedroom apartments on ax0\n",
        "sns.histplot(df['fmr_1'], ax=ax0)\n",
        "ax0.set(xlabel=\"1 Bedroom Fair Market Rent\", xlim=(100,1500))\n",
        "\n",
        "# Plot the distribution of 2 bedroom apartments on ax1\n",
        "sns.histplot(df['fmr_2'], ax=ax1)\n",
        "ax1.set(xlabel=\"2 Bedroom Fair Market Rent\", xlim=(100,1500))\n",
        "\n",
        "# Display the plot\n",
        "plt.show()"
      ],
      "metadata": {
        "id": "EN5JDbSIEnMU"
      },
      "execution_count": null,
      "outputs": []
    },
    {
      "cell_type": "code",
      "source": [
        "# Create the stripplot\n",
        "sns.stripplot(data=df,\n",
        "         x='Award_Amount',\n",
        "         y='Model Selected',\n",
        "         jitter=True)\n",
        "\n",
        "plt.show()"
      ],
      "metadata": {
        "id": "3H56Mq6nGbW-"
      },
      "execution_count": null,
      "outputs": []
    },
    {
      "cell_type": "code",
      "source": [
        "# Create and display a swarmplot with hue set to the Region\n",
        "sns.swarmplot(data=df,\n",
        "         x='Award_Amount',\n",
        "         y='Model Selected',\n",
        "         hue='Region')\n",
        "\n",
        "plt.show()"
      ],
      "metadata": {
        "id": "TnSErH7ia7z9"
      },
      "execution_count": null,
      "outputs": []
    },
    {
      "cell_type": "code",
      "source": [
        "# Create a violinplot with the husl palette\n",
        "sns.violinplot(data=df,\n",
        "         x='Award_Amount',\n",
        "         y='Model Selected',\n",
        "         palette='husl')\n",
        "\n",
        "plt.show()\n",
        "plt.clf()"
      ],
      "metadata": {
        "id": "vLim0pywbWGj"
      },
      "execution_count": null,
      "outputs": []
    },
    {
      "cell_type": "code",
      "source": [
        "# Create a boxenplot with the Paired palette and the Region column as the hue\n",
        "sns.boxenplot(data=df,\n",
        "         x='Award_Amount',\n",
        "         y='Model Selected',\n",
        "         palette='Paired',\n",
        "         hue='Region')\n",
        "\n",
        "plt.show()\n",
        "plt.clf()"
      ],
      "metadata": {
        "id": "SsTGWNexbn8L"
      },
      "execution_count": null,
      "outputs": []
    },
    {
      "cell_type": "code",
      "source": [
        "# Create a pointplot and include the capsize in order to show caps on the error bars\n",
        "sns.pointplot(data=df,\n",
        "         x='Model Selected',\n",
        "         y='Award_Amount',\n",
        "         capsize=.1)\n",
        "\n",
        "plt.show()\n",
        "plt.clf()"
      ],
      "metadata": {
        "id": "UpPMXVQgbz11"
      },
      "execution_count": null,
      "outputs": []
    },
    {
      "cell_type": "code",
      "source": [
        "#Regression Plots\n",
        "# Display a regression plot for Tuition\n",
        "sns.regplot(data=df,\n",
        "         y='Tuition',\n",
        "         x='SAT_AVG_ALL',\n",
        "         marker='^',\n",
        "         color='g')\n",
        "\n",
        "plt.show()\n",
        "plt.clf()"
      ],
      "metadata": {
        "id": "ahZnH2LKcLTx"
      },
      "execution_count": null,
      "outputs": []
    },
    {
      "cell_type": "code",
      "source": [
        "# Display the residual plot\n",
        "sns.residplot(data=df,\n",
        "          y='Tuition',\n",
        "          x='SAT_AVG_ALL',\n",
        "          color='g')\n",
        "\n",
        "plt.show()\n",
        "plt.clf()"
      ],
      "metadata": {
        "id": "lqhGITa1fqDQ"
      },
      "execution_count": null,
      "outputs": []
    },
    {
      "cell_type": "code",
      "source": [
        "# Regression plot using a 2nd order polynomial\n",
        "sns.regplot(data=df,\n",
        "            y='Tuition',\n",
        "            x='PCTPELL',\n",
        "            x_bins=5,\n",
        "            order=2)\n",
        "\n",
        "plt.show()\n",
        "plt.clf()"
      ],
      "metadata": {
        "id": "M9Fp6EzFf83T"
      },
      "execution_count": null,
      "outputs": []
    },
    {
      "cell_type": "code",
      "source": [
        "#Creating Heatmaps/Matrix plots\n",
        "# Create a crosstab table of the data\n",
        "pd_crosstab = pd.crosstab(df[\"Group\"], df[\"YEAR\"])\n",
        "print(pd_crosstab)\n",
        "\n",
        "# Plot a heatmap of the table\n",
        "sns.heatmap(pd_crosstab)\n",
        "\n",
        "# Rotate tick marks for visibility\n",
        "plt.yticks(rotation=0)\n",
        "plt.xticks(rotation=90)\n",
        "\n",
        "plt.show()\n"
      ],
      "metadata": {
        "id": "Y6QN6mh1gCFJ"
      },
      "execution_count": null,
      "outputs": []
    },
    {
      "cell_type": "code",
      "source": [
        "#Customize heatmaps\n",
        "# Create the crosstab DataFrame\n",
        "pd_crosstab = pd.crosstab(df[\"Group\"], df[\"YEAR\"])\n",
        "\n",
        "# Plot a heatmap of the table with no color bar and using the BuGn palette\n",
        "sns.heatmap(pd_crosstab, cbar=False, cmap=\"BuGn\", linewidths=0.3)\n",
        "\n",
        "# Rotate tick marks for visibility\n",
        "plt.yticks(rotation=0)\n",
        "plt.xticks(rotation=90)\n",
        "\n",
        "#Show the plot\n",
        "plt.show()\n",
        "plt.clf()"
      ],
      "metadata": {
        "id": "hY7aDjFejACi"
      },
      "execution_count": null,
      "outputs": []
    },
    {
      "cell_type": "code",
      "source": [
        "#Building a FacetGrid\n",
        "# Create FacetGrid with Degree_Type and specify the order of the rows using row_order\n",
        "g2 = sns.FacetGrid(df,\n",
        "             row=\"Degree_Type\",\n",
        "             row_order=['Graduate', 'Bachelors', 'Associates', 'Certificate'])\n",
        "\n",
        "# Map a pointplot of SAT_AVG_ALL onto the grid\n",
        "g2.map(sns.pointplot, 'SAT_AVG_ALL')\n",
        "\n",
        "# Show the plot\n",
        "plt.show()\n",
        "plt.clf()\n",
        "\n",
        "# Create a FacetGrid varying by column and columns ordered with the degree_order variable\n",
        "g = sns.FacetGrid(df, col=\"Degree_Type\", col_order=degree_ord)\n",
        "\n",
        "# Map a scatter plot of Undergrad Population compared to PCTPELL\n",
        "g.map(plt.scatter, 'UG', 'PCTPELL')\n",
        "\n",
        "plt.show()\n",
        "plt.clf()"
      ],
      "metadata": {
        "id": "MWzC_HcJlcnC"
      },
      "execution_count": null,
      "outputs": []
    },
    {
      "cell_type": "code",
      "source": [
        "# Create the PairGrid but map a histogram on the diag\n",
        "g = sns.PairGrid(df, vars=[\"fatal_collisions\", \"premiums\"])\n",
        "g2 = g.map_diag(sns.histplot)\n",
        "g3 = g2.map_offdiag(sns.scatterplot)\n",
        "\n",
        "plt.show()\n",
        "plt.clf()\n",
        "\n",
        "# Plot with pairplot and use a different color palette and color code by Region\n",
        "sns.pairplot(data=df,\n",
        "        vars=[\"fatal_collisions\", \"premiums\"],\n",
        "        kind='scatter',\n",
        "        hue='Region',\n",
        "        palette='RdBu',\n",
        "        diag_kws={'alpha':.5})\n",
        "\n",
        "plt.show()\n",
        "plt.clf()\n",
        "\n",
        "# plot relationships between insurance_losses and premiums\n",
        "sns.pairplot(data=df,\n",
        "             vars=[\"insurance_losses\", \"premiums\"],\n",
        "             kind='reg',\n",
        "             palette='BrBG',\n",
        "             diag_kind = 'kde',\n",
        "             hue='Region')\n",
        "\n",
        "plt.show()\n",
        "plt.clf()"
      ],
      "metadata": {
        "id": "yL82XLvSoPNj"
      },
      "execution_count": null,
      "outputs": []
    }
  ]
}