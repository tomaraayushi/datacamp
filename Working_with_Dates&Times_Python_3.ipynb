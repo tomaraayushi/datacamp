{
  "nbformat": 4,
  "nbformat_minor": 0,
  "metadata": {
    "colab": {
      "provenance": [],
      "authorship_tag": "ABX9TyPQ+HWMBi8ebzw7jJtBcQ38",
      "include_colab_link": true
    },
    "kernelspec": {
      "name": "python3",
      "display_name": "Python 3"
    },
    "language_info": {
      "name": "python"
    }
  },
  "cells": [
    {
      "cell_type": "markdown",
      "metadata": {
        "id": "view-in-github",
        "colab_type": "text"
      },
      "source": [
        "<a href=\"https://colab.research.google.com/github/tomaraayushi/datacamp/blob/main/Working_with_Dates%26Times_Python_3.ipynb\" target=\"_parent\"><img src=\"https://colab.research.google.com/assets/colab-badge.svg\" alt=\"Open In Colab\"/></a>"
      ]
    },
    {
      "cell_type": "code",
      "source": [
        "# Import datetime, timezone\n",
        "from datetime import datetime, timezone, timedelta\n",
        "\n",
        "# October 1, 2017 at 15:26:26, UTC\n",
        "dt = datetime(2017, 10, 1, 15, 26, 26, tzinfo=timezone.utc)\n",
        "\n",
        "# Print results\n",
        "print(dt.isoformat())"
      ],
      "metadata": {
        "id": "5bIHjS2PEtaB"
      },
      "execution_count": null,
      "outputs": []
    },
    {
      "cell_type": "code",
      "source": [
        "# Import datetime, timedelta, timezone\n",
        "from datetime import datetime, timedelta, timezone\n",
        "\n",
        "# Create a timezone for Pacific Standard Time, or UTC-8\n",
        "pst = timezone(timedelta(hours=-8))\n",
        "\n",
        "# October 1, 2017 at 15:26:26, UTC-8\n",
        "dt = datetime(2017, 10, 1, 15, 26, 26, tzinfo=pst)\n",
        "\n",
        "# Print results\n",
        "print(dt.isoformat())"
      ],
      "metadata": {
        "id": "vVH_3yJ5HCaq"
      },
      "execution_count": null,
      "outputs": []
    },
    {
      "cell_type": "code",
      "source": [
        "# Import datetime, timedelta, timezone\n",
        "from datetime import datetime, timedelta, timezone\n",
        "\n",
        "# Create a timezone for Australian Eastern Daylight Time, or UTC+11\n",
        "aedt = timezone(timedelta(hours=11))\n",
        "\n",
        "# October 1, 2017 at 15:26:26, UTC+11\n",
        "dt = datetime(2017, 10, 1, 15, 26, 26, tzinfo=aedt)\n",
        "\n",
        "# Print results\n",
        "print(dt.isoformat())"
      ],
      "metadata": {
        "id": "Ku6jlaXKJnp1"
      },
      "execution_count": null,
      "outputs": []
    },
    {
      "cell_type": "code",
      "source": [
        "# Create a timezone object corresponding to UTC-4\n",
        "edt = timezone(timedelta(hours=-4))\n",
        "\n",
        "# Loop over trips, updating the start and end datetimes to be in UTC-4\n",
        "for trip in onebike_datetimes[:10]:\n",
        "  # Update trip['start'] and trip['end']\n",
        "  trip['start'] = trip['start'].replace(tzinfo=edt)\n",
        "  trip['end'] = trip['end'].replace(tzinfo=edt)"
      ],
      "metadata": {
        "id": "7jlWi3DQLhKT"
      },
      "execution_count": null,
      "outputs": []
    },
    {
      "cell_type": "code",
      "source": [
        "# Loop over the trips\n",
        "for trip in onebike_datetimes[:10]:\n",
        "  # Pull out the start\n",
        "  dt = trip['start']\n",
        "  # Move dt to be in UTC\n",
        "  dt = dt.replace(tzinfo = timezone.utc)\n",
        "  # Change original to match UTC\n",
        "  dt = dt.astimezone(timezone.utc)\n",
        "\n",
        "  # Print the start time in UTC\n",
        "  print('Original:', trip['start'], '| UTC:', dt.isoformat())"
      ],
      "metadata": {
        "id": "_M1FMqhILn3L"
      },
      "execution_count": null,
      "outputs": []
    },
    {
      "cell_type": "code",
      "source": [
        "# Create the timezone object\n",
        "uk = tz.gettz('Europe/London')\n",
        "\n",
        "# Pull out the start of the first trip\n",
        "local = onebike_datetimes[0]['start']\n",
        "\n",
        "# What time was it in the UK?\n",
        "notlocal = local.astimezone(uk)\n",
        "\n",
        "# Print them out and see the difference\n",
        "print(local.isoformat())\n",
        "print(notlocal.isoformat())"
      ],
      "metadata": {
        "id": "1yHhBsxuLsFn"
      },
      "execution_count": null,
      "outputs": []
    },
    {
      "cell_type": "code",
      "source": [
        "# Create the timezone object\n",
        "ist = tz.gettz('Asia/Kolkata')\n",
        "\n",
        "# Pull out the start of the first trip\n",
        "local = onebike_datetimes[0]['start']\n",
        "\n",
        "# What time was it in India?\n",
        "notlocal = local.astimezone(ist)\n",
        "\n",
        "# Print them out and see the difference\n",
        "print(local.isoformat())\n",
        "print(notlocal.isoformat())"
      ],
      "metadata": {
        "id": "mqXgSSH2O57C"
      },
      "execution_count": null,
      "outputs": []
    },
    {
      "cell_type": "code",
      "source": [
        "# Create the timezone object\n",
        "sm = tz.gettz('Pacific/Apia')\n",
        "\n",
        "# Pull out the start of the first trip\n",
        "local = onebike_datetimes[0]['start']\n",
        "\n",
        "# What time was it in Samoa?\n",
        "notlocal = local.astimezone(sm)\n",
        "\n",
        "# Print them out and see the difference\n",
        "print(local.isoformat())\n",
        "print(notlocal.isoformat())"
      ],
      "metadata": {
        "id": "IXugSG_fPEkM"
      },
      "execution_count": null,
      "outputs": []
    },
    {
      "cell_type": "code",
      "source": [
        "# Import datetime, timedelta, tz, timezone\n",
        "from datetime import datetime, timedelta, timezone\n",
        "from dateutil import tz\n",
        "\n",
        "# Start on March 12, 2017, midnight, then add 6 hours\n",
        "start = datetime(2017, 3, 12, tzinfo = tz.gettz('America/New_York'))\n",
        "end = start + timedelta(hours=6)\n",
        "print(start.isoformat() + \" to \" + end.isoformat())"
      ],
      "metadata": {
        "id": "g0Y1xSSobRB0"
      },
      "execution_count": null,
      "outputs": []
    },
    {
      "cell_type": "code",
      "source": [
        "# Import datetime, timedelta, tz, timezone\n",
        "from datetime import datetime, timedelta, timezone\n",
        "from dateutil import tz\n",
        "\n",
        "# Start on March 12, 2017, midnight, then add 6 hours\n",
        "start = datetime(2017, 3, 12, tzinfo = tz.gettz('America/New_York'))\n",
        "end = start + timedelta(hours=6)\n",
        "print(start.isoformat() + \" to \" + end.isoformat())\n",
        "\n",
        "# How many hours have elapsed?\n",
        "print((end - start).seconds/(60*60))"
      ],
      "metadata": {
        "id": "1XSbOF8ybSGW"
      },
      "execution_count": null,
      "outputs": []
    },
    {
      "cell_type": "code",
      "source": [
        "# Import datetime, timedelta, tz, timezone\n",
        "from datetime import datetime, timedelta, timezone\n",
        "from dateutil import tz\n",
        "\n",
        "# Start on March 12, 2017, midnight, then add 6 hours\n",
        "start = datetime(2017, 3, 12, tzinfo = tz.gettz('America/New_York'))\n",
        "end = start + timedelta(hours=6)\n",
        "print(start.isoformat() + \" to \" + end.isoformat())\n",
        "\n",
        "# How many hours have elapsed?\n",
        "print((end - start).total_seconds()/(60*60))\n",
        "\n",
        "# What if we move to UTC?\n",
        "print((end.astimezone(timezone.utc) - start.astimezone(timezone.utc))\\\n",
        "      .total_seconds()/(60*60))"
      ],
      "metadata": {
        "id": "DfSEPx8LcIyu"
      },
      "execution_count": null,
      "outputs": []
    },
    {
      "cell_type": "code",
      "source": [
        "# Import datetime and tz\n",
        "from datetime import datetime\n",
        "from dateutil import tz\n",
        "\n",
        "# Create starting date\n",
        "dt = datetime(2000, 3, 29, tzinfo = tz.gettz('Europe/London'))\n",
        "\n",
        "# Loop over the dates, replacing the year, and print the ISO timestamp\n",
        "for y in range(2000, 2011):\n",
        "  print(dt.replace(year=y).isoformat())"
      ],
      "metadata": {
        "id": "PAqm7sIKdDNF"
      },
      "execution_count": null,
      "outputs": []
    },
    {
      "cell_type": "code",
      "source": [
        "# Loop over trips\n",
        "for trip in onebike_datetimes:\n",
        "  # Rides with ambiguous start\n",
        "  if tz.datetime_ambiguous(trip['start']):\n",
        "    print(\"Ambiguous start at \" + str(trip['start']))\n",
        "  # Rides with ambiguous end\n",
        "  if tz.datetime_ambiguous(trip['end']):\n",
        "    print(\"Ambiguous end at \" + str(trip['end']))"
      ],
      "metadata": {
        "id": "xo1YeZWxdXhu"
      },
      "execution_count": null,
      "outputs": []
    },
    {
      "cell_type": "code",
      "source": [
        "trip_durations = []\n",
        "for trip in onebike_datetimes:\n",
        "  # When the start is later than the end, set the fold to be 1\n",
        "  if trip['start'] > trip['end']:\n",
        "    trip['end'] = tz.enfold(trip['end'])\n",
        "  # Convert to UTC\n",
        "  start = trip['start'].astimezone(timezone.utc)\n",
        "  end = trip['end'].astimezone(timezone.utc)\n",
        "\n",
        "  # Subtract the difference\n",
        "  trip_length_seconds = (end-start).total_seconds()\n",
        "  trip_durations.append(trip_length_seconds)\n",
        "\n",
        "# Take the shortest trip duration\n",
        "print(\"Shortest trip: \" + str(min(trip_durations)))"
      ],
      "metadata": {
        "id": "wPA61DHufxAl"
      },
      "execution_count": null,
      "outputs": []
    }
  ]
}