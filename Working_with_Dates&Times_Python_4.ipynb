{
  "nbformat": 4,
  "nbformat_minor": 0,
  "metadata": {
    "colab": {
      "provenance": [],
      "authorship_tag": "ABX9TyMFBqkLh7VAYmP1evsqd+T+",
      "include_colab_link": true
    },
    "kernelspec": {
      "name": "python3",
      "display_name": "Python 3"
    },
    "language_info": {
      "name": "python"
    }
  },
  "cells": [
    {
      "cell_type": "markdown",
      "metadata": {
        "id": "view-in-github",
        "colab_type": "text"
      },
      "source": [
        "<a href=\"https://colab.research.google.com/github/tomaraayushi/datacamp/blob/main/Working_with_Dates%26Times_Python_4.ipynb\" target=\"_parent\"><img src=\"https://colab.research.google.com/assets/colab-badge.svg\" alt=\"Open In Colab\"/></a>"
      ]
    },
    {
      "cell_type": "code",
      "source": [
        "# Import pandas\n",
        "import pandas as pd\n",
        "\n",
        "# Load CSV into the rides variable\n",
        "rides = pd.read_csv('capital-onebike.csv',\n",
        "                    parse_dates = ['Start date', 'End date'])\n",
        "\n",
        "# Print the initial (0th) row\n",
        "print(rides.iloc[0])"
      ],
      "metadata": {
        "id": "5bIHjS2PEtaB"
      },
      "execution_count": null,
      "outputs": []
    },
    {
      "cell_type": "code",
      "source": [
        "# Subtract the start date from the end date\n",
        "ride_durations = rides['End date'] - rides['Start date']\n",
        "\n",
        "# Convert the results to seconds\n",
        "rides['Duration'] = ride_durations.dt.total_seconds()\n",
        "\n",
        "print(rides['Duration'].head())"
      ],
      "metadata": {
        "id": "3SBdmtPCwies"
      },
      "execution_count": null,
      "outputs": []
    },
    {
      "cell_type": "code",
      "source": [
        "# Create joyrides\n",
        "joyrides = (rides['Start station'] == rides['End station'])\n",
        "\n",
        "# Total number of joyrides\n",
        "print(\"{} rides were joyrides\".format(joyrides.sum()))\n",
        "\n",
        "# Median of all rides\n",
        "print(\"The median duration overall was {:.2f} seconds\"\\\n",
        "      .format(rides['Duration'].median()))\n",
        "\n",
        "# Median of joyrides\n",
        "print(\"The median duration for joyrides was {:.2f} seconds\"\\\n",
        "      .format(rides[joyrides]['Duration'].median()))"
      ],
      "metadata": {
        "id": "hBdgUZi-xVwX"
      },
      "execution_count": null,
      "outputs": []
    },
    {
      "cell_type": "code",
      "source": [
        "# Import matplotlib\n",
        "import matplotlib.pyplot as plt\n",
        "\n",
        "# Resample rides to daily, take the size, plot the results\n",
        "rides.resample('D', on = 'Start date')\\\n",
        "  .size()\\\n",
        "  .plot(ylim = [0, 15])\n",
        "\n",
        "# Show the results\n",
        "plt.show()"
      ],
      "metadata": {
        "id": "DNTUJXEf0db-"
      },
      "execution_count": null,
      "outputs": []
    },
    {
      "cell_type": "code",
      "source": [
        "# Import matplotlib\n",
        "import matplotlib.pyplot as plt\n",
        "\n",
        "# Resample rides to monthly, take the size, plot the results\n",
        "rides.resample('M', on = 'Start date')\\\n",
        "  .size()\\\n",
        "  .plot(ylim = [0, 150])\n",
        "\n",
        "# Show the results\n",
        "plt.show()"
      ],
      "metadata": {
        "id": "H-t0Vzv-0we3"
      },
      "execution_count": null,
      "outputs": []
    },
    {
      "cell_type": "code",
      "source": [
        "# Resample rides to be monthly on the basis of Start date\n",
        "monthly_rides = rides.resample('M', on= \"Start date\")['Member type']\n",
        "\n",
        "# Take the ratio of the .value_counts() over the total number of rides\n",
        "print(monthly_rides.value_counts() / monthly_rides.size())"
      ],
      "metadata": {
        "id": "xDCnTRtK0316"
      },
      "execution_count": null,
      "outputs": []
    },
    {
      "cell_type": "code",
      "source": [
        "# Group rides by member type, and resample to the month\n",
        "grouped = rides.groupby('Member type')\\\n",
        "  .resample('M', on = 'Start date')\n",
        "\n",
        "# Print the median duration for each group\n",
        "print(grouped['Duration'].median())"
      ],
      "metadata": {
        "id": "nHjvoJfk1xGm"
      },
      "execution_count": null,
      "outputs": []
    },
    {
      "cell_type": "code",
      "source": [
        "# Localize the Start date column to America/New_York\n",
        "rides['Start date'] = rides['Start date'].dt.tz_localize('America/New_York', ambiguous = 'NaT')\n",
        "\n",
        "# Print first value\n",
        "print(rides['Start date'].iloc[0])"
      ],
      "metadata": {
        "id": "cTTTsxMd1_mq"
      },
      "execution_count": null,
      "outputs": []
    },
    {
      "cell_type": "code",
      "source": [
        "# Localize the Start date column to America/New_York\n",
        "rides['Start date'] = rides['Start date'].dt.tz_localize('America/New_York',\n",
        "                                \t\t\t\t\t\t ambiguous='NaT')\n",
        "\n",
        "# Print first value\n",
        "print(rides['Start date'].iloc[0])\n",
        "\n",
        "# Convert the Start date column to Europe/London\n",
        "rides['Start date'] = rides['Start date'].dt.tz_convert('Europe/London')\n",
        "\n",
        "# Print the new value\n",
        "print(rides['Start date'].iloc[0])"
      ],
      "metadata": {
        "id": "Sue_d-Rc352C"
      },
      "execution_count": null,
      "outputs": []
    },
    {
      "cell_type": "code",
      "source": [
        "# Add a column for the weekday of the start of the ride\n",
        "rides['Ride start weekday'] = rides['Start date'].dt.day_name()\n",
        "\n",
        "# Print the median trip time per weekday\n",
        "print(rides.groupby('Ride start weekday')['Duration'].median())"
      ],
      "metadata": {
        "id": "w0fy4kO54cUi"
      },
      "execution_count": null,
      "outputs": []
    },
    {
      "cell_type": "code",
      "source": [
        "# Shift the index of the end date up one; now subract it from the start date\n",
        "rides['Time since'] = rides['Start date'] - (rides['End date'].shift(1))\n",
        "\n",
        "# Move from a timedelta to a number of seconds, which is easier to work with\n",
        "rides['Time since'] = rides['Time since'].dt.total_seconds()\n",
        "\n",
        "# Resample to the month\n",
        "monthly = rides.resample('M', on= 'Start date')\n",
        "\n",
        "# Print the average hours between rides each month\n",
        "print(monthly['Time since'].mean()/(60*60))"
      ],
      "metadata": {
        "id": "ZblK7Lbh5P6Z"
      },
      "execution_count": null,
      "outputs": []
    }
  ]
}