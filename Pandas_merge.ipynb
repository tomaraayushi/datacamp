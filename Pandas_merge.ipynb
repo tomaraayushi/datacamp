{
  "nbformat": 4,
  "nbformat_minor": 0,
  "metadata": {
    "colab": {
      "provenance": [],
      "toc_visible": true,
      "authorship_tag": "ABX9TyOa9whrBpEqHfwR4Dm8mPgZ",
      "include_colab_link": true
    },
    "kernelspec": {
      "name": "python3",
      "display_name": "Python 3"
    },
    "language_info": {
      "name": "python"
    }
  },
  "cells": [
    {
      "cell_type": "markdown",
      "metadata": {
        "id": "view-in-github",
        "colab_type": "text"
      },
      "source": [
        "<a href=\"https://colab.research.google.com/github/tomaraayushi/datacamp/blob/main/Pandas_merge.ipynb\" target=\"_parent\"><img src=\"https://colab.research.google.com/assets/colab-badge.svg\" alt=\"Open In Colab\"/></a>"
      ]
    },
    {
      "cell_type": "markdown",
      "source": [],
      "metadata": {
        "id": "Z68iXsL-keAj"
      }
    },
    {
      "cell_type": "code",
      "source": [
        "#total riders in a month\n",
        "#merge the ridership, cal, stations\n",
        "ridership_cal_stations = ridership.merge(cal, on = [\"day\", \"month\", \"year\"])/\n",
        "                                  .merge(stations, on= \"station_id\")\n",
        "\n",
        "#Filter ridership_cal_stations\n",
        "filter_criteria = (ridership_cal_stations[ridership_cal_stations[\"day_type\"] == \"Weekday\"] &\n",
        "                    ridership_cal_stations[ridership_cal_stations[\"month\"] == \"7\"] &\n",
        "                    ridership_cal_stations[ridership_cal_stations[\"station_name\"] == \"Wilson\"])\n",
        "\n",
        "#Find total numbe of rides\n",
        "print(ridership_cal_stations.loc[filter_criteria, 'rides'].sum())\n",
        "\n",
        "#Using .loc for Selection\n",
        "#The third line of code uses the .loc[] indexer along with the filter_criteria to\n",
        "#select specific rows and columns from the ridership_cal_stations dataframe.\n",
        "#It specifically selects the values in the 'rides' column for the rows that meet the conditions specified in the filter_criteria."
      ],
      "metadata": {
        "id": "ho4vAFAhkkHW"
      },
      "execution_count": null,
      "outputs": []
    },
    {
      "cell_type": "code",
      "source": [
        "#median income\n",
        "licenses_zip_ward = licenses.merge(zip_demo, on = \"zip\")/\n",
        "                            .merge(wards, on = \"ward\")\n",
        "\n",
        "#find median income\n",
        "print(licenses_zip_ward.groupby(\"alderman\").agg({'income':'median'}))"
      ],
      "metadata": {
        "id": "nmxgcmL4pnWk"
      },
      "execution_count": null,
      "outputs": []
    },
    {
      "cell_type": "code",
      "source": [
        "#Choose land from land, census, license table merge\n",
        "land_cen_lic = land_use.merge(census, on=\"ward\")/\n",
        "                        .merge(licenses, on=\"ward\", suffixes=(['_cen', '_lic']))\n",
        "\n",
        "#Count the number of account by group\n",
        "pop_vac_lic = land_cen_lic.groupby(['ward', 'vacant' 'pop_2010'], as_index=False).agg({'account':'count'})\n",
        "\n",
        "#The as_index parameter in the groupby() function controls whether the columns used for grouping\n",
        "#should become the index of the resulting DataFrame or remain as regular columns.\n",
        "#It is a boolean parameter that can take two values: True or False.\n",
        "\n",
        "#sort the pop_vac_lic\n",
        "sort_pop_vac_lic = pop_vac_lic.sort_values(['vacant', 'account', 'pop_2010'], ascending=[False, True, True])"
      ],
      "metadata": {
        "id": "Dg1q4rbK8pMZ"
      },
      "execution_count": null,
      "outputs": []
    },
    {
      "cell_type": "code",
      "source": [
        "#LEFT JOIN\n",
        "\n",
        "#Movies and finacial tables merge\n",
        "movies_fin = movies.merge(financials, on=\"id\", how=\"left\")\n",
        "\n",
        "#Count the number of rows in the budget column that are missing\n",
        "num_missing_values =movies_fin[\"budget\"].isna().sum()\n"
      ],
      "metadata": {
        "id": "W3iqsZmc-4zz"
      },
      "execution_count": null,
      "outputs": []
    },
    {
      "cell_type": "code",
      "source": [
        "#Left Join Exercise\n",
        "\n",
        "#The toy_story DataFrame contains the Toy Story movies. Merge tagline with toy_story\n",
        "\n",
        "toystory_tag = toy_story.merge(tag, on=\"id\", how=\"left\")\n",
        "\n"
      ],
      "metadata": {
        "id": "vjjVdTGyB9pB"
      },
      "execution_count": null,
      "outputs": []
    },
    {
      "cell_type": "code",
      "source": [
        "#RIGHT JOIN\n",
        "#Merge action_movies to the scifi_movies with right join\n",
        "action_sci = action_movies.merge(scifi_movies, on= \"movie_id\", how='right', suffixes=(['_act', '_sci']))\n",
        "\n",
        "# From action_scifi, select only the rows where the genre_act column is null\n",
        "Null_rows_action_sci = action_sci[action_sci[\"genre_act\"].isnull()]\n",
        "\n",
        "# Merge the movies and scifi_only tables with an inner join\n",
        "movies_sci_only = movies.merge(scifi_only, left_on= \"id\", right_on= \"movies_id\").shape\n",
        "\n",
        "#Use right join to merge the movie_to_genres and pop_movies tables\n",
        "pop_movie_genre = movie_to_genre.merge(pop_movies, how= \"right\", left_on= \"movie_id\", right_on =\"id\")\n",
        "\n",
        "#Count the number of genres\n",
        "count_num_genre = pop_movie_genre.groupby('genre').agg({'id':'count'})\n",
        "\n",
        "# Plot a bar chart of the genre_count\n",
        "count_num_genre.plot(kind=\"bar\")\n",
        "plt.show()"
      ],
      "metadata": {
        "id": "8HK-vQfkFpPs"
      },
      "execution_count": null,
      "outputs": []
    },
    {
      "cell_type": "code",
      "source": [
        "#OUTER JOIN\n",
        "#Merge iron_1_actors to iron_2_actors on id with outer join\n",
        "iron_1_2 = iron_1_actors.merge(iron_2_actors, on = \"id\", how= \"outer\", suffixes= (['_1', '_2']))\n",
        "\n",
        "#Create an index that returns true if name_1 or name_2 are null\n",
        "index_iron_1_2 = ((iron_1_2['name_1'].isnull()) | (iron_1_2['name_2'].isnull()))\n",
        "\n",
        "\n"
      ],
      "metadata": {
        "id": "xZB7GoI2M7Jz"
      },
      "execution_count": null,
      "outputs": []
    }
  ]
}