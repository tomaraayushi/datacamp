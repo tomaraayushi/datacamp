{
  "nbformat": 4,
  "nbformat_minor": 0,
  "metadata": {
    "colab": {
      "provenance": [],
      "authorship_tag": "ABX9TyP1gpeihooc/9GTIksly4gM",
      "include_colab_link": true
    },
    "kernelspec": {
      "name": "python3",
      "display_name": "Python 3"
    },
    "language_info": {
      "name": "python"
    }
  },
  "cells": [
    {
      "cell_type": "markdown",
      "metadata": {
        "id": "view-in-github",
        "colab_type": "text"
      },
      "source": [
        "<a href=\"https://colab.research.google.com/github/tomaraayushi/datacamp/blob/main/Functions_Docstrings_1.ipynb\" target=\"_parent\"><img src=\"https://colab.research.google.com/assets/colab-badge.svg\" alt=\"Open In Colab\"/></a>"
      ]
    },
    {
      "cell_type": "code",
      "execution_count": null,
      "metadata": {
        "id": "t3uCQVx08Gzp"
      },
      "outputs": [],
      "source": [
        "# Add a docstring to count_letter()\n",
        "def count_letter(content, letter):\n",
        "  \"\"\"\n",
        "  Count the number of times `letter` appears in `content`.\n",
        "\n",
        "  \"\"\"\n",
        "\n",
        "  if (not isinstance(letter, str)) or len(letter) != 1:\n",
        "    raise ValueError('`letter` must be a single character string.')\n",
        "  return len([char for char in content if char == letter])"
      ]
    },
    {
      "cell_type": "code",
      "source": [
        "# add the arguments section\n",
        "def count_letter(content, letter):\n",
        "  \"\"\"Count the number of times `letter` appears in `content`.\n",
        "\n",
        "  # Add a Google style arguments section\n",
        "  Args:\n",
        "    content (str): The string to search.\n",
        "    letter (str): The letter to search for.\n",
        "  \"\"\"\n",
        "  if (not isinstance(letter, str)) or len(letter) != 1:\n",
        "    raise ValueError('`letter` must be a single character string.')\n",
        "  return len([char for char in content if char == letter])"
      ],
      "metadata": {
        "id": "4SiwSjgM_kNf"
      },
      "execution_count": null,
      "outputs": []
    },
    {
      "cell_type": "code",
      "source": [
        "# Add a returns section\n",
        "def count_letter(content, letter):\n",
        "  \"\"\"Count the number of times `letter` appears in `content`.\n",
        "\n",
        "  Args:\n",
        "    content (str): The string to search.\n",
        "    letter (str): The letter to search for.\n",
        "\n",
        "  # Add a returns section\n",
        "  Returns:\n",
        "    int\n",
        "  \"\"\"\n",
        "  if (not isinstance(letter, str)) or len(letter) != 1:\n",
        "    raise ValueError('\"letter\" must be a single character string.')\n",
        "  return len([char for char in content if char == letter])"
      ],
      "metadata": {
        "id": "FnPK9A18_snx"
      },
      "execution_count": null,
      "outputs": []
    },
    {
      "cell_type": "code",
      "source": [
        "# add some information about the ValueError that gets raised when the arguments aren't correct\n",
        "def count_letter(content, letter):\n",
        "  \"\"\"Count the number of times `letter` appears in `content`.\n",
        "\n",
        "  Args:\n",
        "    content (str): The string to search.\n",
        "    letter (str): The letter to search for.\n",
        "\n",
        "  Returns:\n",
        "    int\n",
        "\n",
        "  # Add a section detailing what errors might be raised\n",
        "  Raises:\n",
        "    ValueError: If `letter` is not a one-character string.\n",
        "  \"\"\"\n",
        "  if (not isinstance(letter, str)) or len(letter) != 1:\n",
        "    raise ValueError('`letter` must be a single character string.')\n",
        "  return len([char for char in content if char == letter])"
      ],
      "metadata": {
        "id": "1UZCfjaa_yk_"
      },
      "execution_count": null,
      "outputs": []
    },
    {
      "cell_type": "code",
      "source": [
        "# Get the \"count_letter\" docstring by using an attribute of the function\n",
        "docstring = count_letter.__doc__\n",
        "\n",
        "border = '#' * 28\n",
        "print('{}\\n{}\\n{}'.format(border, docstring, border))"
      ],
      "metadata": {
        "id": "KndkKC-y_86q"
      },
      "execution_count": null,
      "outputs": []
    },
    {
      "cell_type": "code",
      "source": [
        "import inspect\n",
        "\n",
        "# Inspect the count_letter() function to get its docstring\n",
        "docstring = inspect.getdoc(count_letter)\n",
        "\n",
        "border = '#' * 28\n",
        "print('{}\\n{}\\n{}'.format(border, docstring, border))"
      ],
      "metadata": {
        "id": "Jezw87zgAa1t"
      },
      "execution_count": null,
      "outputs": []
    },
    {
      "cell_type": "code",
      "source": [
        "import inspect\n",
        "\n",
        "def build_tooltip(function):\n",
        "  \"\"\"Create a tooltip for any function that shows the\n",
        "  function's docstring.\n",
        "\n",
        "  Args:\n",
        "    function (callable): The function we want a tooltip for.\n",
        "\n",
        "  Returns:\n",
        "    str\n",
        "  \"\"\"\n",
        "  # Get the docstring for the \"function\" argument by using inspect\n",
        "  docstring = inspect.getdoc(function)\n",
        "  border = '#' * 28\n",
        "  return '{}\\n{}\\n{}'.format(border, docstring, border)\n",
        "\n",
        "print(build_tooltip(count_letter))\n",
        "print(build_tooltip(range))\n",
        "print(build_tooltip(print))"
      ],
      "metadata": {
        "id": "3t5Sdy7eA4Vo"
      },
      "execution_count": null,
      "outputs": []
    },
    {
      "cell_type": "code",
      "source": [
        "# Extract a function\n",
        "def standardize(column):\n",
        "  \"\"\"Standardize the values in a column.\n",
        "\n",
        "  Args:\n",
        "    column (pandas Series): The data to standardize.\n",
        "\n",
        "  Returns:\n",
        "    pandas Series: the values as z-scores\n",
        "  \"\"\"\n",
        "  # Finish the function so that it returns the z-scores\n",
        "  z_score = (column - column.mean()) / column.std()\n",
        "  return z_score\n",
        "\n",
        "# Use the standardize() function to calculate the z-scores\n",
        "df['y1_z'] = standardize(df.y1_gpa)\n",
        "df['y2_z'] = standardize(df.y2_gpa)\n",
        "df['y3_z'] = standardize(df.y3_gpa)\n",
        "df['y4_z'] = standardize(df.y4_gpa)"
      ],
      "metadata": {
        "id": "HIfCQ4XyD5Kp"
      },
      "execution_count": null,
      "outputs": []
    },
    {
      "cell_type": "code",
      "source": [
        "def mean(values):\n",
        "  \"\"\"Get the mean of a sorted list of values\n",
        "\n",
        "  Args:\n",
        "    values (iterable of float): A list of numbers\n",
        "\n",
        "  Returns:\n",
        "    float\n",
        "  \"\"\"\n",
        "  # Write the mean() function\n",
        "  mean = sum(values)/len(values)\n",
        "  return mean"
      ],
      "metadata": {
        "id": "jSYL_it7D_Hl"
      },
      "execution_count": null,
      "outputs": []
    },
    {
      "cell_type": "code",
      "source": [
        "def median(values):\n",
        "  \"\"\"Get the median of a sorted list of values\n",
        "\n",
        "  Args:\n",
        "    values (iterable of float): A list of numbers\n",
        "\n",
        "  Returns:\n",
        "    float\n",
        "  \"\"\"\n",
        "  # Write the median() function\n",
        "  midpoint = int(len(values) / 2)\n",
        "  if len(values) % 2 == 0:\n",
        "    median = (values[midpoint - 1] + values[midpoint]) / 2\n",
        "  else:\n",
        "    median = values[midpoint]\n",
        "  return median"
      ],
      "metadata": {
        "id": "rAuWWEXhEvEb"
      },
      "execution_count": null,
      "outputs": []
    },
    {
      "cell_type": "code",
      "source": [
        "# Use an immutable variable for the default argument\n",
        "def better_add_column(values, df=None):\n",
        "  \"\"\"Add a column of `values` to a DataFrame `df`.\n",
        "  The column will be named \"col_<n>\" where \"n\" is\n",
        "  the numerical index of the column.\n",
        "\n",
        "  Args:\n",
        "    values (iterable): The values of the new column\n",
        "    df (DataFrame, optional): The DataFrame to update.\n",
        "      If no DataFrame is passed, one is created by default.\n",
        "\n",
        "  Returns:\n",
        "    DataFrame\n",
        "  \"\"\"\n",
        "  # Update the function to create a default DataFrame\n",
        "  if df is None:\n",
        "    df = pandas.DataFrame()\n",
        "  df['col_{}'.format(len(df.columns))] = values\n",
        "  return df"
      ],
      "metadata": {
        "id": "EjFVXpzXE0GK"
      },
      "execution_count": null,
      "outputs": []
    }
  ]
}
