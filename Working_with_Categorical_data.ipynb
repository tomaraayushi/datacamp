{
  "nbformat": 4,
  "nbformat_minor": 0,
  "metadata": {
    "colab": {
      "provenance": [],
      "authorship_tag": "ABX9TyMfqFuy6KTj1Gw4fnvvBh5Z",
      "include_colab_link": true
    },
    "kernelspec": {
      "name": "python3",
      "display_name": "Python 3"
    },
    "language_info": {
      "name": "python"
    }
  },
  "cells": [
    {
      "cell_type": "markdown",
      "metadata": {
        "id": "view-in-github",
        "colab_type": "text"
      },
      "source": [
        "<a href=\"https://colab.research.google.com/github/tomaraayushi/datacamp/blob/main/Working_with_Categorical_data.ipynb\" target=\"_parent\"><img src=\"https://colab.research.google.com/assets/colab-badge.svg\" alt=\"Open In Colab\"/></a>"
      ]
    },
    {
      "cell_type": "code",
      "execution_count": null,
      "metadata": {
        "id": "ypVLgdJCs8xr"
      },
      "outputs": [],
      "source": [
        "# Check the dtypes\n",
        "print(adult.dtypes)\n",
        "\n",
        "# Create a dictionary with column names as keys and \"category\" as values\n",
        "adult_dtypes = {\n",
        "   \"Workclass\": \"category\",\n",
        "   \"Education\": \"category\",\n",
        "   \"Relationship\": \"category\",\n",
        "   \"Above/Below 50k\": \"category\"\n",
        "}\n",
        "\n",
        "# Read in the CSV using the dtypes parameter\n",
        "adult2 = pd.read_csv(\n",
        "  \"adult.csv\",\n",
        "  dtype=adult_dtypes\n",
        ")\n",
        "print(adult2.dtypes)"
      ]
    },
    {
      "cell_type": "code",
      "source": [
        "# Group the adult dataset by \"Sex\" and \"Above/Below 50k\"\n",
        "gb = adult.groupby(by=['Sex', 'Above/Below 50k'])\n",
        "\n",
        "# Print out how many rows are in each created group\n",
        "print(gb.size())\n",
        "\n",
        "# Print out the mean of each group for all columns\n",
        "print(gb.mean())"
      ],
      "metadata": {
        "id": "E42ERA0F9WxQ"
      },
      "execution_count": null,
      "outputs": []
    },
    {
      "cell_type": "code",
      "source": [
        "# Create a list of user-selected variables\n",
        "user_list = ['Education', 'Above/Below 50k']\n",
        "\n",
        "# Create a GroupBy object using this list\n",
        "gb = adult.groupby(by=user_list)\n",
        "\n",
        "# Find the mean for the variable \"Hours/Week\" for each group - Be efficient!\n",
        "print(gb['Hours/Week'].mean())"
      ],
      "metadata": {
        "id": "90U4lLpWAwa6"
      },
      "execution_count": null,
      "outputs": []
    },
    {
      "cell_type": "code",
      "source": [
        "# Check frequency counts while also printing the NaN count\n",
        "print(dogs[\"keep_in\"].value_counts(dropna=False))\n",
        "\n",
        "# Switch to a categorical variable\n",
        "dogs[\"keep_in\"] = dogs[\"keep_in\"].astype(\"category\")\n",
        "\n",
        "# Add new categories\n",
        "new_categories = [\"Unknown History\", \"Open Yard (Countryside)\"]\n",
        "dogs[\"keep_in\"] = dogs[\"keep_in\"].cat.add_categories(new_categories)\n",
        "\n",
        "# Check frequency counts one more time\n",
        "print(dogs['keep_in'].value_counts(dropna=False))\n",
        "\n",
        "# Set \"maybe\" to be \"no\"\n",
        "dogs.loc[dogs[\"likes_children\"] == \"maybe\", \"likes_children\"] = \"no\"\n",
        "\n",
        "# Print out categories\n",
        "print(dogs[\"likes_children\"].cat.categories)\n",
        "\n",
        "# Print the frequency table\n",
        "print(dogs[\"likes_children\"].value_counts())\n",
        "\n",
        "# Remove the `\"maybe\" category\n",
        "dogs[\"likes_children\"] = dogs[\"likes_children\"].cat.remove_categories([\"maybe\"])\n",
        "print(dogs[\"likes_children\"].value_counts())\n",
        "\n",
        "# Print the categories one more time\n",
        "print(dogs['likes_children'].cat.categories)"
      ],
      "metadata": {
        "id": "1iyzDPq9BWH1"
      },
      "execution_count": null,
      "outputs": []
    },
    {
      "cell_type": "code",
      "source": [
        "# Create the my_changes dictionary\n",
        "my_changes = {'Maybe?' : 'Maybe'}\n",
        "\n",
        "# Rename the categories listed in the my_changes dictionary\n",
        "dogs[\"likes_children\"] = dogs['likes_children'].cat.rename_categories(my_changes)\n",
        "\n",
        "# Use a lambda function to convert all categories to uppercase using upper()\n",
        "dogs[\"likes_children\"] =  dogs[\"likes_children\"].cat.rename_categories(lambda c: c.upper())\n",
        "\n",
        "# Print the list of categories\n",
        "print(dogs['likes_children'].cat.categories)\n",
        "\n",
        "# Create the update_coats dictionary\n",
        "update_coats = {\n",
        "  \"wirehaired\": \"medium\",\n",
        "  \"medium-long\": \"medium\"\n",
        "}\n",
        "\n",
        "# Create a new column, coat_collapsed\n",
        "dogs[\"coat_collapsed\"] = dogs[\"coat\"].replace(update_coats)\n",
        "\n",
        "# Convert the column to categorical\n",
        "dogs[\"coat_collapsed\"] = dogs[\"coat_collapsed\"].astype(\"category\")\n",
        "\n",
        "# Print the frequency table\n",
        "print(dogs[\"coat_collapsed\"].value_counts())"
      ],
      "metadata": {
        "id": "519abeqQPYlu"
      },
      "execution_count": null,
      "outputs": []
    },
    {
      "cell_type": "code",
      "source": [
        "# Print out the current categories of the size variable\n",
        "print(dogs[\"size\"].cat.categories)\n",
        "\n",
        "# Reorder the categories, specifying the Series is ordinal, and overwriting the original series\n",
        "dogs[\"size\"].cat.reorder_categories(\n",
        "  new_categories=[\"small\", \"medium\", \"large\"],\n",
        "  ordered=True,\n",
        "  inplace=True\n",
        ")"
      ],
      "metadata": {
        "id": "exFd7cZipmBF"
      },
      "execution_count": null,
      "outputs": []
    },
    {
      "cell_type": "code",
      "source": [
        "# Previous code\n",
        "dogs[\"size\"].cat.reorder_categories(\n",
        "  new_categories=[\"small\", \"medium\", \"large\"],\n",
        "  ordered=True,\n",
        "  inplace=True\n",
        ")\n",
        "\n",
        "# How many Male/Female dogs are available of each size?\n",
        "print(dogs.groupby('size')['sex'].value_counts())\n",
        "\n",
        "# Do larger dogs need more room to roam?\n",
        "print(dogs.groupby('size')['keep_in'].value_counts())"
      ],
      "metadata": {
        "id": "bPqLWUxUp9Yj"
      },
      "execution_count": null,
      "outputs": []
    },
    {
      "cell_type": "code",
      "source": [
        "# Fix the misspelled word\n",
        "replace_map = {\"Malez\": \"male\"}\n",
        "\n",
        "# Update the sex column using the created map\n",
        "dogs[\"sex\"] = dogs[\"sex\"].replace(replace_map)\n",
        "\n",
        "# Strip away leading whitespace\n",
        "dogs[\"sex\"] = dogs[\"sex\"].str.strip()\n",
        "\n",
        "# Make all responses lowercase\n",
        "dogs[\"sex\"] = dogs[\"sex\"].str.lower()\n",
        "\n",
        "# Convert to a categorical Series\n",
        "dogs[\"sex\"] = dogs['sex'].astype('category')\n",
        "\n",
        "print(dogs[\"sex\"].value_counts())"
      ],
      "metadata": {
        "id": "4zYNhisLr8TP"
      },
      "execution_count": null,
      "outputs": []
    },
    {
      "cell_type": "code",
      "source": [
        "# Print the category of the coat for ID 23807\n",
        "print(dogs.loc[23807, 'coat'])\n",
        "\n",
        "# Find the count of male and female dogs who have a \"long\" coat\n",
        "print(dogs.loc[dogs['coat'] == 'long', 'sex'].value_counts())\n",
        "\n",
        "# Print the mean age of dogs with a breed of \"English Cocker Spaniel\"\n",
        "print(dogs.loc[dogs['breed'] == 'English Cocker Spaniel', 'age'].mean())\n",
        "\n",
        "# Count the number of dogs that have \"English\" in their breed name\n",
        "print(dogs[dogs[\"breed\"].str.contains('English', regex=False)].shape[0])"
      ],
      "metadata": {
        "id": "0CbMr230tDhP"
      },
      "execution_count": null,
      "outputs": []
    },
    {
      "cell_type": "code",
      "source": [
        "# Set the font size to 1.25\n",
        "sns.set(font_scale=1.25)\n",
        "\n",
        "# Set the background to \"darkgrid\"\n",
        "sns.set_style('darkgrid')\n",
        "\n",
        "# Create a boxplot\n",
        "sns.catplot(x='Traveler type', y='Helpful votes', data=reviews, kind='box')\n",
        "\n",
        "plt.show()"
      ],
      "metadata": {
        "id": "zldk1Z4dtf5A"
      },
      "execution_count": null,
      "outputs": []
    },
    {
      "cell_type": "code",
      "source": [
        "# Print the frequency counts of \"Period of stay\"\n",
        "print(reviews['Period of stay'].value_counts())\n",
        "\n",
        "sns.set(font_scale=1.4)\n",
        "sns.set_style(\"whitegrid\")\n",
        "\n",
        "# Create a bar plot of \"Helpful votes\" by \"Period of stay\"\n",
        "sns.catplot(data=reviews, x='Period of stay', y='Helpful votes', kind='bar')\n",
        "plt.show()\n",
        "\n",
        "# Set style\n",
        "sns.set(font_scale=.9)\n",
        "sns.set_style(\"whitegrid\")\n",
        "\n",
        "# Print the frequency counts for \"User continent\"\n",
        "print(reviews[\"User continent\"].value_counts())\n",
        "\n",
        "# Convert \"User continent\" to a categorical variable\n",
        "reviews[\"User continent\"] = reviews[\"User continent\"].astype(\"category\")\n",
        "\n",
        "# Reorder \"User continent\" using continent_categories and rerun the graphic\n",
        "continent_categories = list(reviews[\"User continent\"].value_counts().index)\n",
        "reviews[\"User continent\"] = reviews[\"User continent\"].cat.reorder_categories(new_categories=continent_categories)\n",
        "sns.catplot(x=\"User continent\", y=\"Score\", data=reviews, kind=\"bar\")\n",
        "plt.show()"
      ],
      "metadata": {
        "id": "0R0ShmvuvdAB"
      },
      "execution_count": null,
      "outputs": []
    },
    {
      "cell_type": "code",
      "source": [
        "# Create a point plot with catplot using \"Hotel stars\" and \"Nr. reviews\"\n",
        "sns.catplot(\n",
        "  # Split the data across Hotel stars and summarize Nr. reviews\n",
        "  x='Hotel stars',\n",
        "  y='Nr. reviews',\n",
        "  data=reviews,\n",
        "  # Specify a point plot\n",
        "  kind='point',\n",
        "  hue=\"Pool\",\n",
        "  # Make sure the lines and points don't overlap\n",
        "  dodge=True\n",
        ")\n",
        "plt.show()"
      ],
      "metadata": {
        "id": "WrZBCegxzOQ8"
      },
      "execution_count": null,
      "outputs": []
    },
    {
      "cell_type": "code",
      "source": [
        "# Adjust the color\n",
        "ax = sns.catplot(\n",
        "  x=\"Free internet\", y=\"Score\",\n",
        "  hue=\"Traveler type\", kind=\"bar\",\n",
        "  data=reviews,\n",
        "  palette=sns.color_palette(\"Set2\")\n",
        ")\n",
        "\n",
        "# Add a title\n",
        "ax.fig.suptitle(\"Hotel Score by Traveler Type and Free Internet Access\")\n",
        "# Update the axis labels\n",
        "ax.set_axis_labels(\"Free Internet\", \"Average Review Rating\")\n",
        "\n",
        "# Adjust the starting height of the graphic\n",
        "plt.subplots_adjust(top=0.93)\n",
        "plt.show()"
      ],
      "metadata": {
        "id": "Y1oNFKvF2u8L"
      },
      "execution_count": null,
      "outputs": []
    },
    {
      "cell_type": "code",
      "source": [
        "# Print the frequency table of body_type and include NaN values\n",
        "print(used_cars[\"body_type\"].value_counts(dropna=False))\n",
        "\n",
        "# Update NaN values\n",
        "used_cars.loc[used_cars[\"body_type\"].isna(), \"body_type\"] = \"other\"\n",
        "\n",
        "# Convert body_type to title case\n",
        "used_cars[\"body_type\"] = used_cars[\"body_type\"].str.title()\n",
        "\n",
        "# Check the dtype\n",
        "print(used_cars['body_type'].dtype)\n",
        "\n",
        "# Print the frequency table of Sale Rating\n",
        "print(used_cars[\"Sale Rating\"].value_counts())\n",
        "\n",
        "# Find the average score\n",
        "average_score = used_cars[\"Sale Rating\"].astype(int).mean()\n",
        "\n",
        "# Print the average\n",
        "print(average_score)"
      ],
      "metadata": {
        "id": "xA8ksR8r6Dni"
      },
      "execution_count": null,
      "outputs": []
    },
    {
      "cell_type": "code",
      "source": [
        "# Convert to categorical and print the frequency table\n",
        "used_cars[\"color\"] = used_cars[\"color\"].astype(\"category\")\n",
        "print(used_cars[\"color\"].value_counts())\n",
        "\n",
        "# Create a label encoding\n",
        "used_cars[\"color_code\"] = used_cars[\"color\"].cat.codes\n",
        "\n",
        "# Create codes and categories objects\n",
        "codes = used_cars[\"color\"].cat.codes\n",
        "categories = used_cars[\"color\"]\n",
        "color_map = dict(zip(codes, categories))\n",
        "\n",
        "# Print the map\n",
        "print(color_map)"
      ],
      "metadata": {
        "id": "cosl-6KB9I1F"
      },
      "execution_count": null,
      "outputs": []
    },
    {
      "cell_type": "code",
      "source": [
        "# Update the color column using the color_map\n",
        "used_cars_updated[\"color\"] = used_cars_updated['color'].map(color_map)\n",
        "# Update the engine fuel column using the fuel_map\n",
        "used_cars_updated[\"engine_fuel\"] = used_cars_updated['engine_fuel'].map(fuel_map)\n",
        "# Update the transmission column using the transmission_map\n",
        "used_cars_updated[\"transmission\"] = used_cars_updated['transmission'].map(transmission_map)\n",
        "\n",
        "# Print the info statement\n",
        "print(used_cars_updated.info())"
      ],
      "metadata": {
        "id": "Gwu4NtFk-Q5G"
      },
      "execution_count": null,
      "outputs": []
    }
  ]
}