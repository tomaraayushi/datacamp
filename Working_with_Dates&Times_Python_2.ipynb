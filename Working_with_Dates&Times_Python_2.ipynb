{
  "nbformat": 4,
  "nbformat_minor": 0,
  "metadata": {
    "colab": {
      "provenance": [],
      "authorship_tag": "ABX9TyM9W+dlEcAr/zXrhG6X/ai8",
      "include_colab_link": true
    },
    "kernelspec": {
      "name": "python3",
      "display_name": "Python 3"
    },
    "language_info": {
      "name": "python"
    }
  },
  "cells": [
    {
      "cell_type": "markdown",
      "metadata": {
        "id": "view-in-github",
        "colab_type": "text"
      },
      "source": [
        "<a href=\"https://colab.research.google.com/github/tomaraayushi/datacamp/blob/main/Working_with_Dates%26Times_Python_2.ipynb\" target=\"_parent\"><img src=\"https://colab.research.google.com/assets/colab-badge.svg\" alt=\"Open In Colab\"/></a>"
      ]
    },
    {
      "cell_type": "code",
      "source": [
        "# Import datetime\n",
        "from datetime import datetime\n",
        "\n",
        "# Create a datetime object\n",
        "dt = datetime(2017, 10, 1,  15, 26, 26)\n",
        "\n",
        "# Print the results in ISO 8601 format\n",
        "print(dt.isoformat())"
      ],
      "metadata": {
        "id": "V9eJaSO-A_kh"
      },
      "execution_count": null,
      "outputs": []
    },
    {
      "cell_type": "code",
      "source": [
        "# Import datetime\n",
        "from datetime import datetime\n",
        "\n",
        "# Create a datetime object\n",
        "dt = datetime(2017, 12, 31, 15, 19, 13)\n",
        "\n",
        "# Print the results in ISO 8601 format\n",
        "print(dt.isoformat())"
      ],
      "metadata": {
        "id": "twQsVA8ACiAq"
      },
      "execution_count": null,
      "outputs": []
    },
    {
      "cell_type": "code",
      "source": [
        "# Import datetime\n",
        "from datetime import datetime\n",
        "\n",
        "# Create a datetime object\n",
        "dt = datetime(2017, 12, 31, 15, 19, 13)\n",
        "\n",
        "# Replace the year with 1917\n",
        "dt_old = dt.replace(year = 1917)\n",
        "\n",
        "# Print the results in ISO 8601 format\n",
        "print(dt_old)"
      ],
      "metadata": {
        "id": "wqmLh0PnC02z"
      },
      "execution_count": null,
      "outputs": []
    },
    {
      "cell_type": "code",
      "source": [
        "# Create dictionary to hold results\n",
        "trip_counts = {'AM': 0, 'PM': 0}\n",
        "\n",
        "# Loop over all trips\n",
        "for trip in onebike_datetimes:\n",
        "  # Check to see if the trip starts before noon\n",
        "  if trip['start'].hour < 12:\n",
        "    # Increment the counter for before noon\n",
        "    trip_counts['AM'] += 1\n",
        "  else:\n",
        "    # Increment the counter for after noon\n",
        "    trip_counts['PM'] += 1\n",
        "\n",
        "print(trip_counts)"
      ],
      "metadata": {
        "id": "ZpAf6WoeC_DH"
      },
      "execution_count": null,
      "outputs": []
    },
    {
      "cell_type": "code",
      "source": [
        "# Import the datetime class\n",
        "from datetime import datetime\n",
        "\n",
        "# Starting string, in YYYY-MM-DD HH:MM:SS format\n",
        "s = '2017-02-03 00:00:01'\n",
        "\n",
        "# Write a format string to parse s\n",
        "fmt = '%Y-%m-%d %H:%M:%S'\n",
        "\n",
        "# Create a datetime object d\n",
        "d = datetime.strptime(s, fmt)\n",
        "\n",
        "# Print d\n",
        "print(d)"
      ],
      "metadata": {
        "id": "j_rFF09VFhZD"
      },
      "execution_count": null,
      "outputs": []
    },
    {
      "cell_type": "code",
      "source": [
        "# Import the datetime class\n",
        "from datetime import datetime\n",
        "\n",
        "# Starting string, in YYYY-MM-DD format\n",
        "s = '2030-10-15'\n",
        "\n",
        "# Write a format string to parse s\n",
        "fmt = '%Y-%m-%d'\n",
        "\n",
        "# Create a datetime object d\n",
        "d = datetime.strptime(s, fmt)\n",
        "\n",
        "# Print d\n",
        "print(d)"
      ],
      "metadata": {
        "id": "uPYBjn7XFipn"
      },
      "execution_count": null,
      "outputs": []
    },
    {
      "cell_type": "code",
      "source": [
        "# Import the datetime class\n",
        "from datetime import datetime\n",
        "\n",
        "# Starting string, in MM/DD/YYYY HH:MM:SS format\n",
        "s = '12/15/1986 08:00:00'\n",
        "\n",
        "# Write a format string to parse s\n",
        "fmt = '%m/%d/%Y %H:%M:%S'\n",
        "\n",
        "# Create a datetime object d\n",
        "d = datetime.strptime(s, fmt)\n",
        "\n",
        "# Print d\n",
        "print(d)"
      ],
      "metadata": {
        "id": "MsE5OWbxFu9G"
      },
      "execution_count": null,
      "outputs": []
    },
    {
      "cell_type": "code",
      "source": [
        "# Write down the format string\n",
        "fmt = \"%Y-%m-%d %H:%M:%S\"\n",
        "\n",
        "# Initialize a list for holding the pairs of datetime objects\n",
        "onebike_datetimes = []\n",
        "\n",
        "# Loop over all trips\n",
        "for (start, end) in onebike_datetime_strings:\n",
        "  trip = {'start': datetime.strptime(start, fmt),\n",
        "          'end': datetime.strptime(end, fmt)}\n",
        "\n",
        "  # Append the trip\n",
        "  onebike_datetimes.append(trip)"
      ],
      "metadata": {
        "id": "mGUBPV6pGG-_"
      },
      "execution_count": null,
      "outputs": []
    },
    {
      "cell_type": "code",
      "source": [
        "# Import datetime\n",
        "from datetime import datetime\n",
        "\n",
        "# Pull out the start of the first trip\n",
        "first_start = onebike_datetimes[0]['start']\n",
        "\n",
        "# Format to feed to strftime()\n",
        "fmt = \"%Y-%m-%dT%H:%M:%S\"\n",
        "\n",
        "# Print out date with .isoformat(), then with .strftime() to compare\n",
        "print(first_start.isoformat())\n",
        "print(first_start.strftime(fmt))"
      ],
      "metadata": {
        "id": "k9cCndpNH1Sy"
      },
      "execution_count": null,
      "outputs": []
    },
    {
      "cell_type": "code",
      "source": [
        "# Import datetime\n",
        "from datetime import datetime\n",
        "\n",
        "# Starting timestamps\n",
        "timestamps = [1514665153, 1514664543]\n",
        "\n",
        "# Datetime objects\n",
        "dts = []\n",
        "\n",
        "# Loop\n",
        "for ts in timestamps:\n",
        "  dts.append(datetime.fromtimestamp(ts))\n",
        "\n",
        "# Print results\n",
        "print(dts)"
      ],
      "metadata": {
        "id": "vR7mybfdH1PT"
      },
      "execution_count": null,
      "outputs": []
    },
    {
      "cell_type": "code",
      "source": [
        "# Initialize a list for all the trip durations\n",
        "onebike_durations = []\n",
        "\n",
        "for trip in onebike_datetimes:\n",
        "  # Create a timedelta object corresponding to the length of the trip\n",
        "  trip_duration = trip['end'] - trip['start']\n",
        "\n",
        "  # Get the total elapsed seconds in trip_duration\n",
        "  trip_length_seconds = trip_duration.total_seconds()\n",
        "\n",
        "  # Append the results to our list\n",
        "  onebike_durations.append(trip_length_seconds)"
      ],
      "metadata": {
        "id": "Sk70PpgCIHUc"
      },
      "execution_count": null,
      "outputs": []
    },
    {
      "cell_type": "code",
      "source": [
        "# What was the total duration of all trips?\n",
        "total_elapsed_time = sum(onebike_durations)\n",
        "\n",
        "# What was the total number of trips?\n",
        "number_of_trips = len(onebike_durations)\n",
        "\n",
        "# Divide the total duration by the number of trips\n",
        "print(total_elapsed_time / number_of_trips)"
      ],
      "metadata": {
        "id": "qjmkvfZaK9C4"
      },
      "execution_count": null,
      "outputs": []
    },
    {
      "cell_type": "code",
      "source": [
        "# Calculate shortest and longest trips\n",
        "shortest_trip = min(onebike_durations)\n",
        "longest_trip = max(onebike_durations)\n",
        "\n",
        "# Print out the results\n",
        "print(\"The shortest trip was \" + str(shortest_trip) + \" seconds\")\n",
        "print(\"The longest trip was \" + str(longest_trip) + \" seconds\")"
      ],
      "metadata": {
        "id": "qCxrIIUrK92T"
      },
      "execution_count": null,
      "outputs": []
    }
  ]
}