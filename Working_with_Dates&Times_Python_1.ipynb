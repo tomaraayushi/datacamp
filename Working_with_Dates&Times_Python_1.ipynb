{
  "nbformat": 4,
  "nbformat_minor": 0,
  "metadata": {
    "colab": {
      "provenance": [],
      "authorship_tag": "ABX9TyNDMZY99ujBXVG5YaXcfo6Y",
      "include_colab_link": true
    },
    "kernelspec": {
      "name": "python3",
      "display_name": "Python 3"
    },
    "language_info": {
      "name": "python"
    }
  },
  "cells": [
    {
      "cell_type": "markdown",
      "metadata": {
        "id": "view-in-github",
        "colab_type": "text"
      },
      "source": [
        "<a href=\"https://colab.research.google.com/github/tomaraayushi/datacamp/blob/main/Working_with_Dates%26Times_Python_1.ipynb\" target=\"_parent\"><img src=\"https://colab.research.google.com/assets/colab-badge.svg\" alt=\"Open In Colab\"/></a>"
      ]
    },
    {
      "cell_type": "code",
      "source": [
        "# Import date from datetime\n",
        "from datetime import date\n",
        "\n",
        "# Create a date object\n",
        "hurricane_andrew = date(1992, 8, 24)\n",
        "\n",
        "# Which day of the week is the date?\n",
        "print(hurricane_andrew.weekday())"
      ],
      "metadata": {
        "id": "83wtDMFxvuZa"
      },
      "execution_count": null,
      "outputs": []
    },
    {
      "cell_type": "code",
      "source": [
        "# Counter for how many before June 1\n",
        "early_hurricanes = 0\n",
        "\n",
        "# We loop over the dates\n",
        "for hurricane in florida_hurricane_dates:\n",
        "  # Check if the month is before June (month number 6)\n",
        "  if hurricane.month < 6:\n",
        "    early_hurricanes = early_hurricanes + 1\n",
        "\n",
        "print(early_hurricanes)"
      ],
      "metadata": {
        "id": "f_k410m0z5wa"
      },
      "execution_count": null,
      "outputs": []
    },
    {
      "cell_type": "code",
      "source": [
        "# Import date\n",
        "from datetime import date\n",
        "\n",
        "# Create a date object for May 9th, 2007\n",
        "start = date(2007, 5, 9)\n",
        "\n",
        "# Create a date object for December 13th, 2007\n",
        "end = date(2007, 12, 13)\n",
        "\n",
        "# Subtract the two dates and print the number of days\n",
        "print((end - start).days)"
      ],
      "metadata": {
        "id": "rGFsaVEDz7sX"
      },
      "execution_count": null,
      "outputs": []
    },
    {
      "cell_type": "code",
      "source": [
        "# A dictionary to count hurricanes per calendar month\n",
        "hurricanes_each_month = {1: 0, 2: 0, 3: 0, 4: 0, 5: 0, 6:0,\n",
        "\t\t  \t\t\t\t 7: 0, 8:0, 9:0, 10:0, 11:0, 12:0}\n",
        "\n",
        "# Loop over all hurricanes\n",
        "for hurricane in florida_hurricane_dates:\n",
        "  # Pull out the month\n",
        "  month = hurricane.month\n",
        "  # Increment the count in your dictionary by one\n",
        "  hurricanes_each_month[month] += 1\n",
        "\n",
        "print(hurricanes_each_month)"
      ],
      "metadata": {
        "id": "Z_2tBnWL2bVZ"
      },
      "execution_count": null,
      "outputs": []
    },
    {
      "cell_type": "code",
      "source": [
        "# Print the first and last scrambled dates\n",
        "print(dates_scrambled[0])\n",
        "print(dates_scrambled[-1])\n",
        "\n",
        "# Put the dates in order\n",
        "dates_ordered = sorted(dates_scrambled)\n",
        "\n",
        "# Print the first and last ordered dates\n",
        "print(dates_ordered[0])\n",
        "print(dates_ordered[-1])"
      ],
      "metadata": {
        "id": "15NaFtVX2cPy"
      },
      "execution_count": null,
      "outputs": []
    },
    {
      "cell_type": "code",
      "source": [
        "# Assign the earliest date to first_date\n",
        "first_date = min(florida_hurricane_dates)\n",
        "\n",
        "# Convert to ISO and US formats\n",
        "iso = \"Our earliest hurricane date: \" + first_date.isoformat()\n",
        "us = \"Our earliest hurricane date: \" + first_date.strftime(\"%m/%d/%Y\")\n",
        "\n",
        "print(\"ISO: \" + iso)\n",
        "print(\"US: \" + us)"
      ],
      "metadata": {
        "id": "yZ5kpdPc6j4j"
      },
      "execution_count": null,
      "outputs": []
    },
    {
      "cell_type": "code",
      "source": [
        "# Import date\n",
        "from datetime import date\n",
        "\n",
        "# Create a date object\n",
        "andrew = date(1992, 8, 26)\n",
        "\n",
        "# Print the date in the format 'YYYY-MM'\n",
        "print(andrew.strftime('%Y-%m'))\n",
        "\n",
        "# Import date\n",
        "from datetime import date\n",
        "\n",
        "# Create a date object\n",
        "andrew = date(1992, 8, 26)\n",
        "\n",
        "# Print the date in the format 'MONTH (YYYY)'\n",
        "print(andrew.strftime('%B (%Y)'))\n",
        "\n",
        "# Import date\n",
        "from datetime import date\n",
        "\n",
        "# Create a date object\n",
        "andrew = date(1992, 8, 26)\n",
        "\n",
        "# Print the date in the format 'YYYY-DDD'\n",
        "print(andrew.strftime(\"%Y-%j\"))"
      ],
      "metadata": {
        "id": "G6ZAbJCZ6mrz"
      },
      "execution_count": null,
      "outputs": []
    }
  ]
}