{
  "nbformat": 4,
  "nbformat_minor": 0,
  "metadata": {
    "colab": {
      "provenance": [],
      "authorship_tag": "ABX9TyPnNc4usMvR275UxmJw55nA",
      "include_colab_link": true
    },
    "kernelspec": {
      "name": "python3",
      "display_name": "Python 3"
    },
    "language_info": {
      "name": "python"
    }
  },
  "cells": [
    {
      "cell_type": "markdown",
      "metadata": {
        "id": "view-in-github",
        "colab_type": "text"
      },
      "source": [
        "<a href=\"https://colab.research.google.com/github/tomaraayushi/datacamp/blob/main/Data_Viz_with_Seaborn.ipynb\" target=\"_parent\"><img src=\"https://colab.research.google.com/assets/colab-badge.svg\" alt=\"Open In Colab\"/></a>"
      ]
    },
    {
      "cell_type": "code",
      "execution_count": null,
      "metadata": {
        "id": "PmveXjKeDGfq"
      },
      "outputs": [],
      "source": [
        "#Sactter plot with seaborn\n",
        "# Import Matplotlib and Seaborn\n",
        "import matplotlib.pyplot as plt\n",
        "import seaborn as sns\n",
        "\n",
        "# Change this scatter plot to have percent literate on the y-axis\n",
        "sns.scatterplot(x=gdp, y=percent_literate)\n",
        "\n",
        "# Show plot\n",
        "plt.show()"
      ]
    },
    {
      "cell_type": "code",
      "source": [
        "#Making a count plot with a list\n",
        "# Import Matplotlib and Seaborn\n",
        "import matplotlib.pyplot as plt\n",
        "import seaborn as sns\n",
        "\n",
        "\n",
        "# Create count plot with region on the y-axis\n",
        "sns.countplot(y=region)\n",
        "\n",
        "# Show plot\n",
        "plt.show()"
      ],
      "metadata": {
        "id": "xiEOddijMO5k"
      },
      "execution_count": null,
      "outputs": []
    },
    {
      "cell_type": "code",
      "source": [
        "#Making a count plot with a DataFrame\n",
        "# Import Matplotlib, pandas, and Seaborn\n",
        "import pandas as pd\n",
        "import matplotlib.pyplot as plt\n",
        "import seaborn as sns\n",
        "\n",
        "# Create a DataFrame from csv file,csv_filepath is python variable\n",
        "df = pd.read_csv(csv_filepath)\n",
        "\n",
        "# Create a count plot with \"Spiders\" on the x-axis\n",
        "sns.countplot(x='Spiders', data=df)\n",
        "\n",
        "# Display the plot\n",
        "plt.show()"
      ],
      "metadata": {
        "id": "oOitwP8dOlkR"
      },
      "execution_count": null,
      "outputs": []
    },
    {
      "cell_type": "code",
      "source": [
        "#Hue and scatter plots\n",
        "# Import Matplotlib and Seaborn\n",
        "import matplotlib.pyplot as plt\n",
        "import seaborn as sns\n",
        "\n",
        "# Change the legend order in the scatter plot\n",
        "sns.scatterplot(x=\"absences\",\n",
        "                y=\"G3\",\n",
        "                data=student_data,\n",
        "                hue=\"location\",\n",
        "                hue_order=['Rural','Urban'])\n",
        "\n",
        "# Show plot\n",
        "plt.show()\n"
      ],
      "metadata": {
        "id": "7KMl9SkmPh1Y"
      },
      "execution_count": null,
      "outputs": []
    },
    {
      "cell_type": "code",
      "source": [
        "#Hue and count plot\n",
        "# Import Matplotlib and Seaborn\n",
        "import matplotlib.pyplot as plt\n",
        "import seaborn as sns\n",
        "\n",
        "# Create a dictionary mapping subgroup values to colors\n",
        "palette_colors = {\"Rural\": \"green\", \"Urban\": \"blue\"}\n",
        "\n",
        "# Create a count plot of school with location subgroups\n",
        "sns.countplot(x='school',\n",
        "                data= student_data,\n",
        "                hue='location',\n",
        "                palette=palette_colors)\n",
        "\n",
        "# Display plot\n",
        "plt.show()"
      ],
      "metadata": {
        "id": "g6FCFQUpWdeK"
      },
      "execution_count": null,
      "outputs": []
    },
    {
      "cell_type": "code",
      "source": [
        "#Creating two-factor subplots with relational plot\n",
        "# Change this scatter plot to arrange the plots in rows instead of columns\n",
        "sns.relplot(x=\"absences\", y=\"G3\",\n",
        "            data=student_data,\n",
        "            kind=\"scatter\",\n",
        "            row=\"study_time\")\n",
        "\n",
        "# Show plot\n",
        "plt.show()\n",
        "\n",
        "# Adjust further to add subplots based on family support\n",
        "sns.relplot(x=\"G1\", y=\"G3\",\n",
        "            data=student_data,\n",
        "            kind=\"scatter\",\n",
        "            col=\"schoolsup\",\n",
        "            col_order=[\"yes\", \"no\"],\n",
        "            row='famsup',\n",
        "            row_order=['yes','no'])\n",
        "\n",
        "# Show plot\n",
        "plt.show()"
      ],
      "metadata": {
        "id": "6QVdkiT4ZCzA"
      },
      "execution_count": null,
      "outputs": []
    },
    {
      "cell_type": "code",
      "source": [
        "#Changing the size of scatter plot points\n",
        "# Import Matplotlib and Seaborn\n",
        "import matplotlib.pyplot as plt\n",
        "import seaborn as sns\n",
        "\n",
        "# Create scatter plot of horsepower vs. mpg\n",
        "sns.relplot(x=\"horsepower\", y=\"mpg\",\n",
        "            data=mpg, kind=\"scatter\",\n",
        "            hue='cylinders',\n",
        "            size=\"cylinders\")\n",
        "\n",
        "# Show plot\n",
        "plt.show()"
      ],
      "metadata": {
        "id": "VwdWexDK9AgJ"
      },
      "execution_count": null,
      "outputs": []
    },
    {
      "cell_type": "code",
      "source": [
        "#Changing the style of scatter plot points\n",
        "# Import Matplotlib and Seaborn\n",
        "import matplotlib.pyplot as plt\n",
        "import seaborn as sns\n",
        "\n",
        "# Create a scatter plot of acceleration vs. mpg\n",
        "sns.relplot(x='acceleration',\n",
        "            y='mpg',\n",
        "            data=mpg,\n",
        "            kind='scatter',\n",
        "            hue='origin',\n",
        "            style='origin')\n",
        "\n",
        "# Show plot\n",
        "plt.show()"
      ],
      "metadata": {
        "id": "AabB5QSX_ZZd"
      },
      "execution_count": null,
      "outputs": []
    },
    {
      "cell_type": "code",
      "source": [
        "#Visualizing standard deviation with line plots\n",
        "# Make the shaded area show the standard deviation\n",
        "sns.relplot(x=\"model_year\", y=\"mpg\",\n",
        "            data=mpg, kind=\"line\", ci='sd')\n",
        "\n",
        "# Show plot\n",
        "plt.show()\n",
        "\n",
        "#Plotting subgroups in line plot\n",
        "# Import Matplotlib and Seaborn\n",
        "import matplotlib.pyplot as plt\n",
        "import seaborn as sns\n",
        "\n",
        "# Add markers and make each line have the same style\n",
        "sns.relplot(x=\"model_year\", y=\"horsepower\",\n",
        "            data=mpg, kind=\"line\",\n",
        "            ci=None, style=\"origin\",\n",
        "            hue=\"origin\",\n",
        "            markers= True,\n",
        "            dashes=False)\n",
        "\n",
        "# Show plot\n",
        "plt.show()"
      ],
      "metadata": {
        "id": "Qx0HApRP_eRY"
      },
      "execution_count": null,
      "outputs": []
    },
    {
      "cell_type": "code",
      "source": [
        "#Catplot() Categorical plots\n",
        "#Count plot\n",
        "# Separate into column subplots based on age category\n",
        "sns.catplot(x=\"Internet usage\", data=survey_data,\n",
        "            kind=\"count\",\n",
        "            col='Age Category')\n",
        "\n",
        "#Bar plot\n",
        "# Create a bar plot of interest in math, separated by gender\n",
        "sns.catplot(x='Gender',\n",
        "            y='Interested in Math',\n",
        "            data=survey_data,\n",
        "            kind='bar')\n",
        "\n"
      ],
      "metadata": {
        "id": "hdKJPs-9CVgR"
      },
      "execution_count": null,
      "outputs": []
    },
    {
      "cell_type": "code",
      "source": [
        "# List of categories from lowest to highest\n",
        "category_order = [\"<2 hours\",\n",
        "                  \"2 to 5 hours\",\n",
        "                  \"5 to 10 hours\",\n",
        "                  \">10 hours\"]\n",
        "\n",
        "# Turn off the confidence intervals\n",
        "sns.catplot(x=\"study_time\", y=\"G3\",\n",
        "            data=student_data,\n",
        "            kind=\"bar\",\n",
        "            order=category_order,\n",
        "            ci=None)\n",
        "\n",
        "# Show plot\n",
        "plt.show()"
      ],
      "metadata": {
        "id": "TMyJgQ7TFnow"
      },
      "execution_count": null,
      "outputs": []
    },
    {
      "cell_type": "code",
      "source": [
        "#Create and interpret a box plot\n",
        "# Specify the category ordering\n",
        "study_time_order = [\"<2 hours\", \"2 to 5 hours\",\n",
        "                    \"5 to 10 hours\", \">10 hours\"]\n",
        "\n",
        "# Create a box plot and set the order of the categories\n",
        "sns.catplot(x='study_time',\n",
        "            y='G3',\n",
        "            data=student_data,\n",
        "            kind='box',\n",
        "            order=study_time_order)\n",
        "\n",
        "# Create a box plot with subgroups and omit the outliers\n",
        "sns.catplot(x='internet',\n",
        "            y='G3',\n",
        "            data=student_data,\n",
        "            kind='box',\n",
        "            hue='location',\n",
        "            sym=\"\")\n",
        "\n",
        "# Set the whiskers at the min and max values\n",
        "sns.catplot(x=\"romantic\", y=\"G3\",\n",
        "            data=student_data,\n",
        "            kind=\"box\",\n",
        "            whis=[0,100])"
      ],
      "metadata": {
        "id": "mHLLFSS4FpiM"
      },
      "execution_count": null,
      "outputs": []
    },
    {
      "cell_type": "code",
      "source": [
        "#Point plot\n",
        "sns.catplot(x=\"famrel\", y=\"absences\",\n",
        "\t\t\tdata=student_data,\n",
        "            kind=\"point\",\n",
        "            capsize=0.2,\n",
        "            join=False)\n",
        "\n",
        "# Import median function from numpy\n",
        "from numpy import median\n",
        "\n",
        "# Plot the median number of absences instead of the mean\n",
        "sns.catplot(x=\"romantic\", y=\"absences\",\n",
        "\t\t\tdata=student_data,\n",
        "            kind=\"point\",\n",
        "            hue=\"school\",\n",
        "            ci=None,estimator=median)"
      ],
      "metadata": {
        "id": "NL2qxsH5Q7jC"
      },
      "execution_count": null,
      "outputs": []
    },
    {
      "cell_type": "code",
      "source": [
        "#Changing styles & colours\n",
        "sns.set_style(\"whitegrid\")\n",
        "sns.set_palette(\"Purples\")\n",
        "\n",
        "# Create a count plot of survey responses\n",
        "category_order = [\"Never\", \"Rarely\", \"Sometimes\",\n",
        "                  \"Often\", \"Always\"]\n",
        "\n",
        "sns.catplot(x=\"Parents Advice\",\n",
        "            data=survey_data,\n",
        "            kind=\"count\",\n",
        "            order=category_order)\n",
        "\n",
        "# Change the context to \"poster\"/\"notebook\"/\"talk\"\n",
        "sns.set_context(\"poster\")\n",
        "\n",
        "# Create bar plot\n",
        "sns.catplot(x=\"Number of Siblings\", y=\"Feels Lonely\",\n",
        "            data=survey_data, kind=\"bar\")\n",
        "\n",
        "# Set the style to \"darkgrid\"\n",
        "sns.set_style('darkgrid')\n",
        "\n",
        "# Set a custom color palette\n",
        "custom =['#39A7D0', '#36ADA4']\n",
        "sns.set_palette(custom)\n",
        "\n",
        "# Create the box plot of age distribution by gender\n",
        "sns.catplot(x=\"Gender\", y=\"Age\",\n",
        "            data=survey_data, kind=\"box\")\n"
      ],
      "metadata": {
        "id": "-myp9T9oT6hK"
      },
      "execution_count": null,
      "outputs": []
    },
    {
      "cell_type": "code",
      "source": [
        "#Titles and Labels\n",
        "# Create scatter plot\n",
        "g = sns.relplot(x=\"weight\",\n",
        "                y=\"horsepower\",\n",
        "                data=mpg,\n",
        "                kind=\"scatter\")\n",
        "\n",
        "# Add a title \"Car Weight vs. Horsepower\"\n",
        "g.fig.suptitle(\"Car Weight vs. Horsepower\")\n",
        "\n",
        "# Create line plot\n",
        "g = sns.lineplot(x=\"model_year\", y=\"mpg_mean\",\n",
        "                 data=mpg_mean,\n",
        "                 hue=\"origin\")\n",
        "\n",
        "# Add a title \"Average MPG Over Time\"\n",
        "g.set_title(\"Average MPG Over Time\")\n",
        "\n",
        "# Add x-axis and y-axis labels\n",
        "g.set(xlabel='Car Model Year',\n",
        "    ylabel='Average MPG')\n",
        "\n",
        "# Create point plot\n",
        "g= sns.catplot(x=\"origin\",\n",
        "            y=\"acceleration\",\n",
        "            data=mpg,\n",
        "            kind=\"point\",\n",
        "            join=False,\n",
        "            capsize=0.1)\n",
        "\n",
        "# Rotate x-tick labels\n",
        "plt.xticks(rotation=90)\n"
      ],
      "metadata": {
        "id": "zgex3wPnVMfx"
      },
      "execution_count": null,
      "outputs": []
    },
    {
      "cell_type": "code",
      "source": [
        "#Box Plot with subgroups\n",
        "# Set palette to \"Blues\"\n",
        "sns.set_palette('Blues')\n",
        "\n",
        "# Adjust to add subgroups based on \"Interested in Pets\"\n",
        "g = sns.catplot(x=\"Gender\",\n",
        "                y=\"Age\", data=survey_data,\n",
        "                kind=\"box\", hue='Interested in Pets')\n",
        "\n",
        "# Set title to \"Age of Those Interested in Pets vs. Not\"\n",
        "g.fig.suptitle('Age of Those Interested in Pets vs. Not')"
      ],
      "metadata": {
        "id": "-zakgDXPYvgN"
      },
      "execution_count": null,
      "outputs": []
    },
    {
      "cell_type": "code",
      "source": [
        "#Bar plot with subgroups and subplots\n",
        "# Set the figure style to \"dark\"\n",
        "sns.set_style(\"dark\")\n",
        "\n",
        "# Adjust to add subplots per gender\n",
        "g = sns.catplot(x=\"Village - town\", y=\"Likes Techno\",\n",
        "                data=survey_data, kind=\"bar\",\n",
        "                hue=\"Gender\", col=\"Gender\")\n",
        "\n",
        "# Add title and axis labels\n",
        "g.fig.suptitle(\"Percentage of Young People Who Like Techno\", y=1.02)\n",
        "g.set(xlabel=\"Location of Residence\",\n",
        "       ylabel=\"% Who Like Techno\")"
      ],
      "metadata": {
        "id": "GW7EuUSZZGUp"
      },
      "execution_count": null,
      "outputs": []
    }
  ]
}