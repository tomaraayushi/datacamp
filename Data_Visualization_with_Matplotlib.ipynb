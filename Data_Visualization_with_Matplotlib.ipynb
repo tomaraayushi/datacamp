{
  "nbformat": 4,
  "nbformat_minor": 0,
  "metadata": {
    "colab": {
      "provenance": [],
      "authorship_tag": "ABX9TyOBmJTxUvLCl7YzW4C5GI7J",
      "include_colab_link": true
    },
    "kernelspec": {
      "name": "python3",
      "display_name": "Python 3"
    },
    "language_info": {
      "name": "python"
    }
  },
  "cells": [
    {
      "cell_type": "markdown",
      "metadata": {
        "id": "view-in-github",
        "colab_type": "text"
      },
      "source": [
        "<a href=\"https://colab.research.google.com/github/tomaraayushi/datacamp/blob/main/Data_Visualization_with_Matplotlib.ipynb\" target=\"_parent\"><img src=\"https://colab.research.google.com/assets/colab-badge.svg\" alt=\"Open In Colab\"/></a>"
      ]
    },
    {
      "cell_type": "code",
      "execution_count": null,
      "metadata": {
        "id": "B19VbcyKXzsR"
      },
      "outputs": [],
      "source": [
        "# Adding Data to an Axes Object\n",
        "# Import the matplotlib.pyplot submodule and name it plt\n",
        "import matplotlib.pyplot as plt\n",
        "\n",
        "# Create a Figure and an Axes with plt.subplots\n",
        "fig, ax = plt.subplots()\n",
        "\n",
        "# Plot MLY-PRCP-NORMAL from seattle_weather against the MONTH\n",
        "ax.plot(seattle_weather[\"MONTH\"], seattle_weather['MLY-PRCP-NORMAL'])\n",
        "\n",
        "# Plot MLY-PRCP-NORMAL from austin_weather against MONTH\n",
        "ax.plot(austin_weather['MONTH'], austin_weather['MLY-PRCP-NORMAL'])\n",
        "\n",
        "# Call the show function\n",
        "plt.show()"
      ]
    },
    {
      "cell_type": "code",
      "source": [
        "#Customizing data appearance\n",
        "\n",
        "# Plot Seattle data, setting data appearance\n",
        "ax.plot(seattle_weather[\"MONTH\"], seattle_weather[\"MLY-PRCP-NORMAL\"], marker=\"o\", color=\"b\", linestyle=\"--\")\n",
        "\n",
        "# Plot Austin data, setting data appearance\n",
        "ax.plot(austin_weather[\"MONTH\"], austin_weather[\"MLY-PRCP-NORMAL\"], marker=\"v\", color=\"r\", linestyle=\"--\")\n",
        "\n",
        "# Call show to display the resulting plot\n",
        "plt.show()"
      ],
      "metadata": {
        "id": "gdUbt5AeYec5"
      },
      "execution_count": null,
      "outputs": []
    },
    {
      "cell_type": "code",
      "source": [
        "#Customizing axis labels and adding titles\n",
        "ax.plot(seattle_weather[\"MONTH\"], seattle_weather[\"MLY-PRCP-NORMAL\"])\n",
        "ax.plot(austin_weather[\"MONTH\"], austin_weather[\"MLY-PRCP-NORMAL\"])\n",
        "\n",
        "# Customize the x-axis label\n",
        "ax.set_xlabel(\"Time (months)\")\n",
        "\n",
        "# Customize the y-axis label\n",
        "ax.set_ylabel(\"Precipitation (inches)\")\n",
        "\n",
        "# Add the title\n",
        "ax.set_title(\"Weather patterns in Austin and Seattle\")\n",
        "\n",
        "# Display the figure\n",
        "plt.show()"
      ],
      "metadata": {
        "id": "9Rt80KI3I4te"
      },
      "execution_count": null,
      "outputs": []
    },
    {
      "cell_type": "code",
      "source": [
        "#Creating small multiples with plt.subplots\n",
        "# Create a Figure and an array of subplots with 2 rows and 2 columns\n",
        "fig, ax = plt.subplots(2, 2)\n",
        "\n",
        "# Addressing the top left Axes as index 0, 0, plot month and Seattle precipitation\n",
        "ax[0, 0].plot(seattle_weather['MONTH'], seattle_weather['MLY-PRCP-NORMAL'])\n",
        "\n",
        "# In the top right (index 0,1), plot month and Seattle temperatures\n",
        "ax[0, 1].plot(seattle_weather['MONTH'], seattle_weather['MLY-TAVG-NORMAL'])\n",
        "\n",
        "# In the bottom left (1, 0) plot month and Austin precipitations\n",
        "ax[1,0].plot(austin_weather['MONTH'], austin_weather['MLY-PRCP-NORMAL'])\n",
        "\n",
        "# In the bottom right (1, 1) plot month and Austin temperatures\n",
        "ax[1, 1].plot(austin_weather['MONTH'], austin_weather['MLY-TAVG-NORMAL'])\n",
        "plt.show()"
      ],
      "metadata": {
        "id": "wV1mR-M8I-Je"
      },
      "execution_count": null,
      "outputs": []
    },
    {
      "cell_type": "code",
      "source": [
        "#Small multiples with shared y axis\n",
        "# Create a figure and an array of axes: 2 rows, 1 column with shared y axis\n",
        "fig, ax = plt.subplots(2, 1, sharey=True)\n",
        "\n",
        "# Plot Seattle precipitation data in the top axes\n",
        "ax[0].plot(seattle_weather['MLY-PRCP-NORMAL'], seattle_weather['MONTH'], color = \"b\")\n",
        "ax[0].plot(seattle_weather['MLY-PRCP-25PCTL'], seattle_weather['MONTH'], color = \"b\", linestyle = \"--\")\n",
        "ax[0].plot(seattle_weather['MLY-PRCP-75PCTL'], seattle_weather['MONTH'], color = \"b\", linestyle = \"--\")\n",
        "\n",
        "# Plot Austin precipitation data in the bottom axes\n",
        "ax[1].plot(austin_weather['MLY-PRCP-NORMAL'], austin_weather['MONTH'], color = \"r\")\n",
        "ax[1].plot(austin_weather['MLY-PRCP-25PCTL'], austin_weather['MONTH'], color = \"r\", linestyle = \"--\")\n",
        "ax[1].plot(austin_weather['MLY-PRCP-75PCTL'], austin_weather['MONTH'], color = \"r\", linestyle = \"--\")\n",
        "\n",
        "plt.show()\n"
      ],
      "metadata": {
        "id": "FVDEauw4NF6p"
      },
      "execution_count": null,
      "outputs": []
    },
    {
      "cell_type": "code",
      "source": [
        "#Read data with a time index\n",
        "\n",
        "# Import pandas as pd\n",
        "import pandas as pd\n",
        "\n",
        "# Read the data from file using read_csv\n",
        "climate_change = pd.read_csv('climate_change.csv', parse_dates=['date'], index_col=\"date\")\n",
        "\n",
        "import matplotlib.pyplot as plt\n",
        "fig, ax = plt.subplots()\n",
        "\n",
        "# Add the time-series for \"relative_temp\" to the plot\n",
        "ax.plot(climate_change.index, climate_change['relative_temp'])\n",
        "\n",
        "# Set the x-axis label\n",
        "ax.set_xlabel('Time')\n",
        "\n",
        "# Set the y-axis label\n",
        "ax.set_ylabel('Relative temperature (Celsius)')\n",
        "\n",
        "# Show the figure\n",
        "plt.show()\n",
        "\n",
        "#Using a time index to zoom in\n",
        "import matplotlib.pyplot as plt\n",
        "\n",
        "# Use plt.subplots to create fig and ax\n",
        "fig, ax= plt.subplots()\n",
        "\n",
        "# Create variable seventies with data from \"1970-01-01\" to \"1979-12-31\"\n",
        "seventies = climate_change[\"1970-01-01\":\"1979-12-31\"]\n",
        "\n",
        "# Add the time-series for \"co2\" data from seventies to the plot\n",
        "ax.plot(seventies.index, seventies[\"co2\"])\n",
        "\n",
        "# Show the figure\n",
        "plt.show()"
      ],
      "metadata": {
        "id": "boRTcs8CzM60"
      },
      "execution_count": null,
      "outputs": []
    },
    {
      "cell_type": "code",
      "source": [
        "#Plotting two variables\n",
        "import matplotlib.pyplot as plt\n",
        "\n",
        "# Initalize a Figure and Axes\n",
        "fig, ax= plt.subplots()\n",
        "\n",
        "# Plot the CO2 variable in blue\n",
        "ax.plot(climate_change.index, climate_change['co2'], color=\"b\")\n",
        "\n",
        "# Create a twin Axes that shares the x-axis\n",
        "ax2 = ax.twinx()\n",
        "\n",
        "# Plot the relative temperature in red\n",
        "ax2.plot(climate_change.index, climate_change['relative_temp'], color=\"r\")\n",
        "\n",
        "plt.show()\n",
        "\n",
        "#Defining a function that plots time-series data\n",
        "# Define a function called plot_timeseries\n",
        "def plot_timeseries(axes, x, y, color, xlabel, ylabel):\n",
        "\n",
        "  # Plot the inputs x,y in the provided color\n",
        "  axes.plot(x, y, color=color)\n",
        "\n",
        "  # Set the x-axis label\n",
        "  axes.set_xlabel(xlabel)\n",
        "\n",
        "  # Set the y-axis label\n",
        "  axes.set_ylabel(ylabel, color=color)\n",
        "\n",
        "  # Set the colors tick params for y-axis\n",
        "  axes.tick_params('y', colors=color)\n",
        "\n",
        "  fig, ax = plt.subplots()\n",
        "\n",
        "# Plot the CO2 levels time-series in blue\n",
        "plot_timeseries(ax, climate_change.index, climate_change['co2'], \"blue\", 'Time (years)', 'CO2 levels')\n",
        "\n",
        "# Create a twin Axes object that shares the x-axis\n",
        "ax2 = ax.twinx()\n",
        "\n",
        "# Plot the relative temperature data in red\n",
        "plot_timeseries(ax2, climate_change.index, climate_change['relative_temp'], \"red\", 'Time (years)', 'Relative Temperature (Celsius)')\n",
        "\n",
        "plt.show()"
      ],
      "metadata": {
        "id": "4qgkvsCD1geH"
      },
      "execution_count": null,
      "outputs": []
    },
    {
      "cell_type": "code",
      "source": [
        "#Annotating a plot of time-series data\n",
        "\n",
        "fig, ax = plt.subplots()\n",
        "\n",
        "# Plot the relative temperature data\n",
        "ax.plot(climate_change.index, climate_change['relative_temp'])\n",
        "\n",
        "# Annotate the date at which temperatures exceeded 1 degree\n",
        "ax.annotate(\">1 degree\", xy=(pd.Timestamp('2015-10-06'), 1))\n",
        "\n",
        "plt.show()\n",
        "\n",
        "\n",
        "fig, ax = plt.subplots()\n",
        "\n",
        "# Plot the CO2 levels time-series in blue\n",
        "plot_timeseries(ax, climate_change.index, climate_change['co2'], 'blue', 'Time (years)', 'CO2 levels')\n",
        "\n",
        "# Create an Axes object that shares the x-axis\n",
        "ax2 = ax.twinx()\n",
        "\n",
        "# Plot the relative temperature data in red\n",
        "plot_timeseries(ax2, climate_change.index, climate_change['relative_temp'], 'red', 'Time (years)', 'Relative temp (Celsius)')\n",
        "\n",
        "# Annotate point with relative temperature >1 degree\n",
        "ax2.annotate(\">1 degree\", xy=(pd.Timestamp('2015-10-06'), 1), xytext=(pd.Timestamp('2008-10-06'), -0.2), arrowprops={\"arrowstyle\": \"->\", \"color\": \"gray\"})\n",
        "\n",
        "plt.show()"
      ],
      "metadata": {
        "id": "ViF7JZHQ7zE7"
      },
      "execution_count": null,
      "outputs": []
    },
    {
      "cell_type": "code",
      "source": [
        "#Bar chart\n",
        "fig, ax = plt.subplots()\n",
        "\n",
        "# Plot a bar-chart of gold medals as a function of country\n",
        "ax.bar(medals.index, medals[\"Gold\"], label=\"Gold\")\n",
        "\n",
        "# Set the x-axis tick labels to the country names\n",
        "ax.set_xticklabels(medals.index, rotation=90)\n",
        "\n",
        "# Set the y-axis label\n",
        "ax.set_ylabel(\"Number of medals\")\n",
        "\n",
        "plt.show()\n",
        "\n",
        "#Stacked bar chart\n",
        "# Add bars for \"Gold\" with the label \"Gold\"\n",
        "ax.bar(medals.index, medals[\"Gold\"], label=\"Gold\")\n",
        "\n",
        "# Stack bars for \"Silver\" on top with label \"Silver\"\n",
        "ax.bar(medals.index, medals[\"Silver\"], bottom=medals[\"Gold\"], label=\"Silver\")\n",
        "\n",
        "# Stack bars for \"Bronze\" on top of that with label \"Bronze\"\n",
        "ax.bar(medals.index, medals[\"Bronze\"], bottom= medals[\"Gold\"] + medals[\"Silver\"], label=\"Bronze\")\n",
        "\n",
        "# Display the legend\n",
        "ax.legend()\n",
        "\n",
        "plt.show()"
      ],
      "metadata": {
        "id": "taek51fggR95"
      },
      "execution_count": null,
      "outputs": []
    },
    {
      "cell_type": "code",
      "source": [
        "#Creating histograms\n",
        "fig, ax = plt.subplots()\n",
        "# Plot a histogram of \"Weight\" for mens_rowing\n",
        "ax.hist(mens_rowing['Weight'], label=\"Rowing\")\n",
        "\n",
        "# Compare to histogram of \"Weight\" for mens_gymnastics\n",
        "ax.hist(mens_gymnastics['Weight'], label=\"Gymnastics\")\n",
        "\n",
        "# Set the x-axis label to \"Weight (kg)\"\n",
        "ax.set_xlabel(\"Weight (kg)\")\n",
        "\n",
        "# Set the y-axis label to \"# of observations\"\n",
        "ax.set_ylabel(\"# of observations\")\n",
        "\n",
        "plt.show()\n",
        "\n",
        "#Step histogram\n",
        "fig, ax = plt.subplots()\n",
        "\n",
        "# Plot a histogram of \"Weight\" for mens_rowing\n",
        "ax.hist(mens_rowing[\"Weight\"], label=\"Rowing\",bins=5, histtype=\"step\")\n",
        "\n",
        "# Compare to histogram of \"Weight\" for mens_gymnastics\n",
        "ax.hist(mens_gymnastics[\"Weight\"], label=\"Gymnastics\", bins=5,  histtype=\"step\")\n",
        "\n",
        "ax.set_xlabel(\"Weight (kg)\")\n",
        "ax.set_ylabel(\"# of observations\")\n",
        "\n",
        "# Add the legend and show the Figure\n",
        "ax.legend()\n",
        "plt.show"
      ],
      "metadata": {
        "id": "0pyAG1Kfx2pT"
      },
      "execution_count": null,
      "outputs": []
    },
    {
      "cell_type": "code",
      "source": [
        "#Statistical Visualization\n",
        "\n",
        "#Adding error-bars to a bar chart\n",
        "fig, ax = plt.subplots()\n",
        "\n",
        "# Add a bar for the rowing \"Height\" column mean/std\n",
        "ax.bar(\"Rowing\", mens_rowing['Height'].mean(), yerr=mens_rowing['Height'].std())\n",
        "\n",
        "# Add a bar for the gymnastics \"Height\" column mean/std\n",
        "ax.bar(\"Gymnastics\", mens_gymnastics['Height'].mean(), yerr=mens_gymnastics['Height'].std())\n",
        "\n",
        "# Label the y-axis\n",
        "ax.set_ylabel(\"Height (cm)\")\n",
        "\n",
        "plt.show()\n",
        "\n",
        "#Adding error-bars to a plot\n",
        "fig, ax = plt.subplots()\n",
        "\n",
        "# Add Seattle temperature data in each month with error bars\n",
        "ax.errorbar(seattle_weather['MONTH'], seattle_weather['MLY-TAVG-NORMAL'], yerr=seattle_weather['MLY-TAVG-STDDEV'])\n",
        "\n",
        "# Add Austin temperature data in each month with error bars\n",
        "ax.errorbar(austin_weather['MONTH'], austin_weather['MLY-TAVG-NORMAL'], yerr=austin_weather['MLY-TAVG-STDDEV'])\n",
        "\n",
        "# Set the y-axis label\n",
        "ax.set_ylabel('Temperature (Fahrenheit)')\n",
        "\n",
        "plt.show()\n",
        "\n",
        "#Creating Boxplots\n",
        "fig, ax = plt.subplots()\n",
        "\n",
        "# Add a boxplot for the \"Height\" column in the DataFrames\n",
        "ax.boxplot([mens_rowing['Height'], mens_gymnastics['Height']])\n",
        "\n",
        "# Add x-axis tick labels:\n",
        "ax.set_xticklabels(['Rowing', 'Gymnastics'])\n",
        "\n",
        "# Add a y-axis label\n",
        "ax.set_ylabel('Height (cm)')\n",
        "\n",
        "plt.show()"
      ],
      "metadata": {
        "id": "NGlLen944Qn4"
      },
      "execution_count": null,
      "outputs": []
    },
    {
      "cell_type": "code",
      "source": [
        "#Scatter plot\n",
        "#Encoding time by color\n",
        "\n",
        "fig, ax = plt.subplots()\n",
        "\n",
        "# Add data: \"co2\", \"relative_temp\" as x-y, index as color\n",
        "ax.scatter(climate_change['co2'], climate_change['relative_temp'], c=climate_change.index)\n",
        "\n",
        "# Set the x-axis label to \"CO2 (ppm)\"\n",
        "ax.set_xlabel('CO2 (ppm)')\n",
        "\n",
        "# Set the y-axis label to \"Relative temperature (C)\"\n",
        "ax.set_ylabel('Relative temperature (C)')\n",
        "\n",
        "plt.show()"
      ],
      "metadata": {
        "id": "UBC-dInJ6c-w"
      },
      "execution_count": null,
      "outputs": []
    },
    {
      "cell_type": "code",
      "source": [
        "#Creating new Figures with d/f styles\n",
        "\n",
        "# Use the \"ggplot\" style and create new Figure/Axes\n",
        "plt.style.use(\"ggplot\")\n",
        "fig, ax=plt.subplots()\n",
        "ax.plot(seattle_weather[\"MONTH\"], seattle_weather[\"MLY-TAVG-NORMAL\"])\n",
        "plt.show()\n",
        "\n",
        "# Use the \"Solarize_Light2\" style and create new Figure/Axes\n",
        "plt.style.use(\"Solarize_Light2\")\n",
        "fig, ax=plt.subplots()\n",
        "ax.plot(austin_weather[\"MONTH\"], austin_weather[\"MLY-TAVG-NORMAL\"])\n",
        "plt.show()"
      ],
      "metadata": {
        "id": "v1A0odXk-4S7"
      },
      "execution_count": null,
      "outputs": []
    }
  ]
}