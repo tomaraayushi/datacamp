{
  "nbformat": 4,
  "nbformat_minor": 0,
  "metadata": {
    "colab": {
      "provenance": [],
      "authorship_tag": "ABX9TyOhncOohqM5OSWnwO6KFQA8",
      "include_colab_link": true
    },
    "kernelspec": {
      "name": "python3",
      "display_name": "Python 3"
    },
    "language_info": {
      "name": "python"
    }
  },
  "cells": [
    {
      "cell_type": "markdown",
      "metadata": {
        "id": "view-in-github",
        "colab_type": "text"
      },
      "source": [
        "<a href=\"https://colab.research.google.com/github/tomaraayushi/datacamp/blob/main/Functions_ContextManagers.ipynb\" target=\"_parent\"><img src=\"https://colab.research.google.com/assets/colab-badge.svg\" alt=\"Open In Colab\"/></a>"
      ]
    },
    {
      "cell_type": "code",
      "source": [
        "# Open \"alice.txt\" and assign the file to \"file\"\n",
        "with open('alice.txt') as file:\n",
        "  text = file.read()\n",
        "\n",
        "n = 0\n",
        "for word in text.split():\n",
        "  if word.lower() in ['cat', 'cats']:\n",
        "    n += 1\n",
        "\n",
        "print('Lewis Carroll uses the word \"cat\" {} times'.format(n))"
      ],
      "metadata": {
        "id": "nK3ypzpnG0pG"
      },
      "execution_count": null,
      "outputs": []
    },
    {
      "cell_type": "code",
      "source": [
        "image = get_image_from_instagram()\n",
        "\n",
        "# Time how long process_with_numpy(image) takes to run\n",
        "with timer():\n",
        "  print('Numpy version')\n",
        "  process_with_numpy(image)\n",
        "\n",
        "# Time how long process_with_pytorch(image) takes to run\n",
        "with timer():\n",
        "  print('Pytorch version')\n",
        "  process_with_pytorch(image)"
      ],
      "metadata": {
        "id": "7Bzk_MWHMNTg"
      },
      "execution_count": null,
      "outputs": []
    },
    {
      "cell_type": "code",
      "source": [
        "# Add a decorator that will make timer() a context manager\n",
        "@contextlib.contextmanager\n",
        "def timer():\n",
        "  \"\"\"Time the execution of a context block.\n",
        "\n",
        "  Yields:\n",
        "    None\n",
        "  \"\"\"\n",
        "  start = time.time()\n",
        "  # Send control back to the context block\n",
        "  yield\n",
        "  end = time.time()\n",
        "  print('Elapsed: {:.2f}s'.format(end - start))\n",
        "\n",
        "with timer():\n",
        "  print('This should take approximately 0.25 seconds')\n",
        "  time.sleep(0.25)"
      ],
      "metadata": {
        "id": "ZqmnDcIZOvCv"
      },
      "execution_count": null,
      "outputs": []
    },
    {
      "cell_type": "code",
      "source": [
        "@contextlib.contextmanager\n",
        "def open_read_only(filename):\n",
        "  \"\"\"Open a file in read-only mode.\n",
        "\n",
        "  Args:\n",
        "    filename (str): The location of the file to read\n",
        "\n",
        "  Yields:\n",
        "    file object\n",
        "  \"\"\"\n",
        "  read_only_file = open(filename, mode='r')\n",
        "  # Yield read_only_file so it can be assigned to my_file\n",
        "  yield read_only_file\n",
        "  # Close read_only_file\n",
        "  read_only_file.close()\n",
        "\n",
        "with open_read_only('my_file.txt') as my_file:\n",
        "  print(my_file.read())"
      ],
      "metadata": {
        "id": "04z92LQkPbvY"
      },
      "execution_count": null,
      "outputs": []
    },
    {
      "cell_type": "code",
      "source": [
        "# Use the \"stock('NVDA')\" context manager\n",
        "# and assign the result to the variable \"nvda\"\n",
        "with stock('NVDA') as nvda:\n",
        "  # Open \"NVDA.txt\" for writing as f_out\n",
        "  with open('NVDA.txt', 'w') as f_out:\n",
        "    for _ in range(10):\n",
        "      value = nvda.price()\n",
        "      print('Logging ${:.2f} for NVDA'.format(value))\n",
        "      f_out.write('{:.2f}\\n'.format(value))"
      ],
      "metadata": {
        "id": "IgXtAeiHSjg6"
      },
      "execution_count": null,
      "outputs": []
    },
    {
      "cell_type": "code",
      "source": [
        "def in_dir(directory):\n",
        "  \"\"\"Change current working directory to `directory`,\n",
        "  allow the user to run some code, and change back.\n",
        "\n",
        "  Args:\n",
        "    directory (str): The path to a directory to work in.\n",
        "  \"\"\"\n",
        "  current_dir = os.getcwd()\n",
        "  os.chdir(directory)\n",
        "\n",
        "  # Add code that lets you handle errors\n",
        "  try:\n",
        "    yield\n",
        "  # Ensure the directory is reset,\n",
        "  # whether there was an error or not\n",
        "  finally:\n",
        "    os.chdir(current_dir)"
      ],
      "metadata": {
        "id": "eN2dBHX0Sj0F"
      },
      "execution_count": null,
      "outputs": []
    }
  ]
}