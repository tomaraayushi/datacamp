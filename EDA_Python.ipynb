{
  "nbformat": 4,
  "nbformat_minor": 0,
  "metadata": {
    "colab": {
      "provenance": [],
      "authorship_tag": "ABX9TyOCS8LpyXteqN77zpX+w1Ic",
      "include_colab_link": true
    },
    "kernelspec": {
      "name": "python3",
      "display_name": "Python 3"
    },
    "language_info": {
      "name": "python"
    }
  },
  "cells": [
    {
      "cell_type": "markdown",
      "metadata": {
        "id": "view-in-github",
        "colab_type": "text"
      },
      "source": [
        "<a href=\"https://colab.research.google.com/github/tomaraayushi/datacamp/blob/main/EDA_Python.ipynb\" target=\"_parent\"><img src=\"https://colab.research.google.com/assets/colab-badge.svg\" alt=\"Open In Colab\"/></a>"
      ]
    },
    {
      "cell_type": "code",
      "execution_count": null,
      "metadata": {
        "id": "xLHzaDRxqsJL"
      },
      "outputs": [],
      "source": [
        "# Import the required visualization libraries\n",
        "import seaborn as sns\n",
        "import matplotlib.pyplot as plt\n",
        "\n",
        "# Create a histogram of 2021 unemployment; show a full percent in each bin\n",
        "sns.histplot(unemployment, x='2021', binwidth=1)\n",
        "plt.show()"
      ]
    },
    {
      "cell_type": "code",
      "source": [
        "#Validating\n",
        "# Define a Series describing whether each continent is outside of Oceania\n",
        "not_oceania = ~unemployment[\"continent\"].isin([\"Oceania\"])\n",
        "\n",
        "# Print unemployment without records related to countries in Oceania\n",
        "print(unemployment[not_oceania])\n",
        "\n",
        "# Print the minimum and maximum unemployment rates during 2021\n",
        "print(unemployment['2021'].min(), unemployment['2021'].max())\n",
        "\n",
        "# Create a boxplot of 2021 unemployment rates, broken down by continent\n",
        "sns.boxplot(data=unemployment,\n",
        "            x='2021',\n",
        "            y='continent')\n",
        "plt.show()"
      ],
      "metadata": {
        "id": "wqX-GXievkaD"
      },
      "execution_count": null,
      "outputs": []
    },
    {
      "cell_type": "code",
      "source": [
        "continent_summary = unemployment.groupby(\"continent\").agg(\n",
        "    # Create the mean_rate_2021 column\n",
        "    mean_rate_2021 = ('2021', 'mean'),\n",
        "    # Create the std_rate_2021 column\n",
        "    std_rate_2021 = ('2021', 'std')\n",
        ")\n",
        "print(continent_summary)"
      ],
      "metadata": {
        "id": "uQvzSF_2N5fu"
      },
      "execution_count": null,
      "outputs": []
    },
    {
      "cell_type": "code",
      "source": [
        "#Dealing with missing data\n",
        "# Count the number of missing values in each column\n",
        "print(planes.isna().sum())\n",
        "\n",
        "# Find the five percent threshold\n",
        "threshold = len(planes) * 0.05\n",
        "\n",
        "# Create a filter\n",
        "cols_to_drop = planes.columns[planes.isna().sum() <= threshold]\n",
        "\n",
        "# Drop missing values for columns below the threshold\n",
        "planes.dropna(subset=cols_to_drop, inplace=True)\n",
        "\n",
        "print(planes.isna().sum())"
      ],
      "metadata": {
        "id": "X7wH2iXZYIbO"
      },
      "execution_count": null,
      "outputs": []
    },
    {
      "cell_type": "code",
      "source": [
        "#Imputing missing values\n",
        "# Calculate median plane ticket prices by Airline\n",
        "airline_prices = planes.groupby(\"Airline\")[\"Price\"].median()\n",
        "\n",
        "print(airline_prices)\n",
        "\n",
        "# Convert to a dictionary\n",
        "prices_dict = airline_prices.to_dict()\n",
        "\n",
        "# Map the dictionary to missing values of Price by Airline\n",
        "planes[\"Price\"] = planes[\"Price\"].fillna(planes[\"Airline\"].map(prices_dict))\n",
        "\n",
        "# Check for missing values\n",
        "print(planes.isna().sum())"
      ],
      "metadata": {
        "id": "JXlRY_JqaphD"
      },
      "execution_count": null,
      "outputs": []
    },
    {
      "cell_type": "code",
      "source": [
        "# Filter the DataFrame for object columns\n",
        "non_numeric = planes.select_dtypes(\"object\")\n",
        "\n",
        "# Loop through columns\n",
        "for col in non_numeric.columns:\n",
        "\n",
        "  # Print the number of unique values\n",
        "  print(f\"Number of unique values in {col} column: \", non_numeric[col].nunique())"
      ],
      "metadata": {
        "id": "0dVLDv0_g3N6"
      },
      "execution_count": null,
      "outputs": []
    },
    {
      "cell_type": "code",
      "source": [
        "# Create conditions for values in flight_categories to be created\n",
        "conditions = [\n",
        "    (planes[\"Duration\"].str.contains(short_flights)),\n",
        "    (planes[\"Duration\"].str.contains(medium_flights)),\n",
        "    (planes[\"Duration\"].str.contains(long_flights))\n",
        "]\n",
        "\n",
        "# Apply the conditions list to the flight_categories\n",
        "planes[\"Duration_Category\"] = np.select(conditions,\n",
        "                                        flight_categories,\n",
        "                                        default=\"Extreme duration\")\n",
        "\n",
        "# Plot the counts of each category\n",
        "sns.countplot(data=planes, x=\"Duration_Category\")\n",
        "plt.show()"
      ],
      "metadata": {
        "id": "5dpfYrYQjxtj"
      },
      "execution_count": null,
      "outputs": []
    },
    {
      "cell_type": "code",
      "source": [
        "# Preview the column\n",
        "print(planes[\"Duration\"].head())\n",
        "\n",
        "# Remove the string character\n",
        "planes[\"Duration\"] = planes[\"Duration\"].str.replace(\"h\", \"\")\n",
        "\n",
        "# Convert to float data type\n",
        "planes[\"Duration\"] = planes[\"Duration\"].astype(float)\n",
        "\n",
        "# Plot a histogram\n",
        "sns.histplot(data=planes,\n",
        "            x=\"Duration\")\n",
        "plt.show()\n",
        "\n",
        "# Price standard deviation by Airline\n",
        "planes[\"airline_price_st_dev\"] = planes.groupby(\"Airline\")[\"Price\"].transform(lambda x: x.std())\n",
        "\n",
        "print(planes[[\"Airline\", \"airline_price_st_dev\"]].value_counts())\n",
        "\n",
        "# Median Duration by Airline\n",
        "planes[\"airline_median_duration\"] = planes.groupby(\"Airline\")[\"Duration\"].transform(lambda x: x.median())\n",
        "\n",
        "print(planes[[\"Airline\",\"airline_median_duration\"]].value_counts())\n",
        "\n",
        "# Mean Price by Destination\n",
        "planes[\"price_destination_mean\"] = planes.groupby(\"Destination\")[\"Price\"].transform(lambda x: x.mean())\n",
        "\n",
        "print(planes[[\"Destination\",\"price_destination_mean\"]].value_counts())"
      ],
      "metadata": {
        "id": "_Hj20cQlqfa9"
      },
      "execution_count": null,
      "outputs": []
    },
    {
      "cell_type": "code",
      "source": [
        "# Display descriptive statistics for flight duration\n",
        "print(planes[\"Duration\"].describe())"
      ],
      "metadata": {
        "id": "OpvL6GejrTTr"
      },
      "execution_count": null,
      "outputs": []
    },
    {
      "cell_type": "code",
      "source": [
        "# Find the 75th and 25th percentiles\n",
        "price_seventy_fifth = planes[\"Price\"].quantile(0.75)\n",
        "price_twenty_fifth = planes[\"Price\"].quantile(0.25)\n",
        "\n",
        "# Calculate iqr\n",
        "prices_iqr = price_seventy_fifth - price_twenty_fifth\n",
        "\n",
        "# Calculate the thresholds\n",
        "upper = price_seventy_fifth + (1.5 * prices_iqr)\n",
        "lower = price_twenty_fifth - (1.5 * prices_iqr)\n",
        "\n",
        "# Subset the data\n",
        "planes = planes[(planes[\"Price\"] > lower) & (planes[\"Price\"] < upper)]\n",
        "\n",
        "print(planes[\"Price\"].describe())"
      ],
      "metadata": {
        "id": "nzBwrw--xUID"
      },
      "execution_count": null,
      "outputs": []
    }
  ]
}